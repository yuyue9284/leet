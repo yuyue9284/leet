{
 "cells": [
  {
   "cell_type": "markdown",
   "metadata": {},
   "source": [
    "# 62. Unique Paths"
   ]
  },
  {
   "cell_type": "code",
   "execution_count": 30,
   "metadata": {
    "collapsed": false
   },
   "outputs": [],
   "source": [
    "def solution(m,n):\n",
    "    a = min(m-1,n-1)\n",
    "    s = m + n - 2\n",
    "    up = 1\n",
    "    down = 1 \n",
    "    for i in range(a):\n",
    "        up *= (s-i)\n",
    "        down *= (i+1)\n",
    "    return up/down\n",
    "    "
   ]
  },
  {
   "cell_type": "code",
   "execution_count": 31,
   "metadata": {
    "collapsed": false
   },
   "outputs": [
    {
     "data": {
      "text/plain": [
       "6"
      ]
     },
     "execution_count": 31,
     "metadata": {},
     "output_type": "execute_result"
    }
   ],
   "source": [
    "solution(3,3)"
   ]
  },
  {
   "cell_type": "markdown",
   "metadata": {},
   "source": [
    "# 63. Unique Paths II"
   ]
  },
  {
   "cell_type": "code",
   "execution_count": 5,
   "metadata": {
    "collapsed": false
   },
   "outputs": [],
   "source": [
    "def solution(obstacleGrid):\n",
    "    m = len(obstacleGrid)\n",
    "    n = len(obstacleGrid[0])\n",
    "    result = [0]\n",
    "    def find_way(x, y, result):\n",
    "        if x == n - 1 and y == m - 1:\n",
    "            result[0] += 1\n",
    "            return\n",
    "        elif x >= n or y >= m or obstacleGrid[y][x] == 1:\n",
    "            return\n",
    "        find_way(x + 1, y, result)\n",
    "        find_way(x, y + 1, result)\n",
    "    find_way(0, 0, result)\n",
    "    return result[0]\n",
    "\n",
    "# 会超时"
   ]
  },
  {
   "cell_type": "code",
   "execution_count": 6,
   "metadata": {
    "collapsed": false,
    "scrolled": true
   },
   "outputs": [
    {
     "data": {
      "text/plain": [
       "0"
      ]
     },
     "execution_count": 6,
     "metadata": {},
     "output_type": "execute_result"
    }
   ],
   "source": [
    "solution([\n",
    "  [0,0,0],\n",
    "  [0,1,0],\n",
    "  [0,0,0]\n",
    "])"
   ]
  },
  {
   "cell_type": "code",
   "execution_count": 55,
   "metadata": {
    "collapsed": true
   },
   "outputs": [],
   "source": [
    "# 把每个点到终点的路线数目记下来避免重复计算\n",
    "def solution(obstacleGrid):\n",
    "    m = len(obstacleGrid)\n",
    "    n = len(obstacleGrid[0])\n",
    "    temp = [[None for i in range(n)] for j in range(m)]\n",
    "    result = [0]\n",
    "    def find_way(x, y, result):\n",
    "        pre_result = result[0]\n",
    "        if x >= n or y >= m or obstacleGrid[y][x] == 1:\n",
    "            return\n",
    "        elif temp[y][x] is not None:\n",
    "            result[0] += temp[y][x]\n",
    "            return\n",
    "        elif x == n - 1 and y == m - 1:\n",
    "            result[0] += 1\n",
    "            return\n",
    "        find_way(x + 1, y, result)\n",
    "        find_way(x, y + 1, result)\n",
    "        temp[y][x] = result[0] - pre_result\n",
    "    find_way(0, 0, result)\n",
    "    return result[0]"
   ]
  },
  {
   "cell_type": "code",
   "execution_count": 56,
   "metadata": {
    "collapsed": false
   },
   "outputs": [
    {
     "data": {
      "text/plain": [
       "1"
      ]
     },
     "execution_count": 56,
     "metadata": {},
     "output_type": "execute_result"
    }
   ],
   "source": [
    "solution([\n",
    "  [0,0,0],\n",
    "])"
   ]
  },
  {
   "cell_type": "markdown",
   "metadata": {},
   "source": [
    "# 64. Minimum Path Sum"
   ]
  },
  {
   "cell_type": "code",
   "execution_count": 7,
   "metadata": {
    "collapsed": true
   },
   "outputs": [],
   "source": [
    "def solution(Grid):\n",
    "    Xmax = len(Grid[0])\n",
    "    Ymax = len(Grid)\n",
    "    temp = [[None for i in range(Xmax)] for j in range(Ymax)]\n",
    "    def find_min(temp, x, y, current):\n",
    "        if x >= Xmax or y >= Ymax:\n",
    "            return\n",
    "        else:\n",
    "            if temp[y][x] is None:\n",
    "                temp[y][x] = Grid[y][x] + current\n",
    "            else:\n",
    "                temp[y][x] = min(temp[y][x], current + Grid[y][x])\n",
    "            if x == Xmax - 1 and y == Ymax - 1:\n",
    "                return\n",
    "            find_min(temp, x, y + 1, temp[y][x])\n",
    "            find_min(temp, x + 1, y, temp[y][x])\n",
    "            return\n",
    "    find_min(temp, 0, 0, 0)\n",
    "    return temp[-1][-1]\n",
    "# 会超时"
   ]
  },
  {
   "cell_type": "code",
   "execution_count": 8,
   "metadata": {
    "collapsed": false
   },
   "outputs": [
    {
     "data": {
      "text/plain": [
       "70"
      ]
     },
     "execution_count": 8,
     "metadata": {},
     "output_type": "execute_result"
    }
   ],
   "source": [
    "solution([[7,1,3,5,8,9,9,2,1,9,0,8,3,1,6,6,9,5],[9,5,9,4,0,4,8,8,9,5,7,3,6,6,6,9,1,6],[6,7,9,8,4,8,3,0,4,0,9,6,6,0,0,5,1,4],[6,7,9,8,4,8,3,0,4,0,9,6,6,0,0,5,1,4],[6,7,9,8,4,8,3,0,4,0,9,6,6,0,0,5,1,4],[6,7,9,8,4,8,3,0,4,0,9,6,6,0,0,5,1,4],[6,7,9,8,4,8,3,0,4,0,9,6,6,0,0,5,1,4],[6,7,9,8,4,8,3,0,4,0,9,6,6,0,0,5,1,4],[6,7,9,8,4,8,3,0,4,0,9,6,6,0,0,5,1,4]])"
   ]
  },
  {
   "cell_type": "code",
   "execution_count": 16,
   "metadata": {
    "collapsed": true
   },
   "outputs": [],
   "source": [
    "# 换个思路 对于每个点上一步不是上面一点，就是左面一点\n",
    "def solution(grid):\n",
    "    Xmax = len(grid[0])\n",
    "    Ymax = len(grid)\n",
    "    temp = [[None for i in range(Xmax)] for j in range(Ymax)]\n",
    "    temp[0][0] = grid[0][0] \n",
    "    for i in range(Ymax):\n",
    "        for j in range(Xmax):\n",
    "            if i == 0:\n",
    "                if j == 0:\n",
    "                    continue\n",
    "                temp[i][j] = temp[i][j - 1] + grid[i][j]\n",
    "            elif j == 0:\n",
    "                if i == 0:\n",
    "                    continue\n",
    "                temp[i][j] = temp[i - 1][j] + grid[i][j]\n",
    "            else:\n",
    "                temp[i][j] = min(temp[i - 1][j], temp[i][j - 1]) + grid[i][j]\n",
    "                \n",
    "    return temp[-1][-1]"
   ]
  },
  {
   "cell_type": "code",
   "execution_count": 17,
   "metadata": {
    "collapsed": false
   },
   "outputs": [
    {
     "data": {
      "text/plain": [
       "70"
      ]
     },
     "execution_count": 17,
     "metadata": {},
     "output_type": "execute_result"
    }
   ],
   "source": [
    "solution([[7,1,3,5,8,9,9,2,1,9,0,8,3,1,6,6,9,5],[9,5,9,4,0,4,8,8,9,5,7,3,6,6,6,9,1,6],[6,7,9,8,4,8,3,0,4,0,9,6,6,0,0,5,1,4],[6,7,9,8,4,8,3,0,4,0,9,6,6,0,0,5,1,4],[6,7,9,8,4,8,3,0,4,0,9,6,6,0,0,5,1,4],[6,7,9,8,4,8,3,0,4,0,9,6,6,0,0,5,1,4],[6,7,9,8,4,8,3,0,4,0,9,6,6,0,0,5,1,4],[6,7,9,8,4,8,3,0,4,0,9,6,6,0,0,5,1,4],[6,7,9,8,4,8,3,0,4,0,9,6,6,0,0,5,1,4]])"
   ]
  },
  {
   "cell_type": "markdown",
   "metadata": {},
   "source": [
    "# 69. Sqrt(x)"
   ]
  },
  {
   "cell_type": "code",
   "execution_count": 40,
   "metadata": {
    "collapsed": false
   },
   "outputs": [
    {
     "data": {
      "text/plain": [
       "13110"
      ]
     },
     "execution_count": 40,
     "metadata": {},
     "output_type": "execute_result"
    }
   ],
   "source": [
    " def mySqrt(x):\n",
    "        if x == 0:\n",
    "            return 0\n",
    "        elif x <= 3:\n",
    "            return 1\n",
    "       \n",
    "        def Sqrt(x, base):\n",
    "            i = base\n",
    "            step = 1\n",
    "            if (i + 1)**2 > x:\n",
    "                return i\n",
    "            while True:\n",
    "                if i**2 == x:\n",
    "                    return i\n",
    "                else:\n",
    "                    if i**2 > x:\n",
    "                        flag = 0\n",
    "                        step /= 2\n",
    "                        i -= step\n",
    "                        return Sqrt(x, i)\n",
    "                    else:\n",
    "                        i += step\n",
    "                        step *= 2\n",
    "        return Sqrt(x, 1)\n",
    "\n",
    "mySqrt(171886642)"
   ]
  },
  {
   "cell_type": "markdown",
   "metadata": {
    "collapsed": true
   },
   "source": [
    "# 36. Valid Sudoku"
   ]
  },
  {
   "cell_type": "code",
   "execution_count": 74,
   "metadata": {
    "collapsed": false
   },
   "outputs": [],
   "source": [
    "def isValidSudoku(board):\n",
    "    horizontal = [set() for i in range(9)]\n",
    "    vertical = [set() for i in range(9)]\n",
    "    cell = [set() for i in range(9)]\n",
    "    for i in range(9):\n",
    "        for j in range(9):\n",
    "            if board[i][j] == '.':\n",
    "                continue\n",
    "            else:\n",
    "                temp = int(board[i][j]) - 1\n",
    "                if (j) in horizontal[temp] or (i) in vertical[temp] or temp in cell[i/3*3 + j/3]:\n",
    "                    return False\n",
    "                else:\n",
    "                    horizontal[temp].add(j)\n",
    "                    vertical[temp].add(i)\n",
    "                    cell[i/3*3 + j/3].add(temp)\n",
    "    return True\n",
    "                    "
   ]
  },
  {
   "cell_type": "code",
   "execution_count": 75,
   "metadata": {
    "collapsed": false
   },
   "outputs": [
    {
     "data": {
      "text/plain": [
       "True"
      ]
     },
     "execution_count": 75,
     "metadata": {},
     "output_type": "execute_result"
    }
   ],
   "source": [
    "isValidSudoku([\".........\",\"4........\",\"......6..\",\"...38....\",\".5...6..1\",\"8......6.\",\".........\",\"..7.9....\",\"...6.....\"])"
   ]
  },
  {
   "cell_type": "markdown",
   "metadata": {},
   "source": [
    "# 73. Set Matrix Zeroes"
   ]
  },
  {
   "cell_type": "code",
   "execution_count": 9,
   "metadata": {
    "collapsed": true
   },
   "outputs": [],
   "source": [
    "def setZeroes(matrix):\n",
    "    m = len(matrix)\n",
    "    n = len(matrix[0])\n",
    "    column = set()\n",
    "    row = set()\n",
    "    for i in range(m):\n",
    "        for j in range(n):\n",
    "            if matrix[i][j] == 0:\n",
    "                column.add(j)\n",
    "                row.add(i)\n",
    "    row_set = [0 for i in range(n)]\n",
    "    for i in column:\n",
    "        for j in range(m):\n",
    "            matrix[j][i] = 0\n",
    "    for i in row:\n",
    "        matrix[i] = row_set\n",
    "            "
   ]
  },
  {
   "cell_type": "markdown",
   "metadata": {},
   "source": [
    "# 74. Search a 2D Matrix"
   ]
  },
  {
   "cell_type": "code",
   "execution_count": 115,
   "metadata": {
    "collapsed": true
   },
   "outputs": [],
   "source": [
    "def searchMatrix(matrix, target):\n",
    "    # 估计要用折半查找\n",
    "    if target < matrix[0][0] or target > matrix[-1][-1]:\n",
    "        return False\n",
    "    def Binary_search(lst, target):\n",
    "        length = len(lst)\n",
    "        if length == 0:\n",
    "            return False\n",
    "        else:\n",
    "            tmp = length / 2\n",
    "            if lst[tmp] == target:\n",
    "                return True\n",
    "            elif lst[tmp] < target:\n",
    "                return Binary_search(lst[tmp + 1:], target)\n",
    "            else:\n",
    "                return Binary_search(lst[:tmp], target)\n",
    "    join = []\n",
    "    for i in matrix:\n",
    "        join += i\n",
    "    return Binary_search(join, target)"
   ]
  },
  {
   "cell_type": "code",
   "execution_count": 116,
   "metadata": {
    "collapsed": false
   },
   "outputs": [
    {
     "data": {
      "text/plain": [
       "True"
      ]
     },
     "execution_count": 116,
     "metadata": {},
     "output_type": "execute_result"
    }
   ],
   "source": [
    "a = [\n",
    "  [1,   3,  5,  7],\n",
    "  [10, 11, 16, 20],\n",
    "  [23, 30, 34, 50]\n",
    "]\n",
    "\n",
    "searchMatrix(a ,3)"
   ]
  },
  {
   "cell_type": "code",
   "execution_count": 120,
   "metadata": {
    "collapsed": false
   },
   "outputs": [
    {
     "data": {
      "text/plain": [
       "[1]"
      ]
     },
     "execution_count": 120,
     "metadata": {},
     "output_type": "execute_result"
    }
   ],
   "source": [
    "[1,1][0:1]"
   ]
  },
  {
   "cell_type": "markdown",
   "metadata": {},
   "source": [
    "# 89. Gray Code"
   ]
  },
  {
   "cell_type": "code",
   "execution_count": 90,
   "metadata": {
    "collapsed": true
   },
   "outputs": [],
   "source": [
    "def grayCode(n):\n",
    "    if n == 0:\n",
    "        return [0]\n",
    "    \n",
    "    def solution(n):\n",
    "        if n == 1:\n",
    "            return [[0, 1]]\n",
    "        total = 2**(n-1)\n",
    "        zeros = [0 for i in range(total)]\n",
    "        ones = [total for i in range(total)]\n",
    "        temp = []\n",
    "        temp.append(zeros + ones)\n",
    "        for i in solution(n - 1):\n",
    "            temp.append(i+i[::-1])\n",
    "        return temp\n",
    "    \n",
    "    matrix = solution(n)\n",
    "    result = []\n",
    "    for i in range(len(matrix[0])):\n",
    "        a = 0\n",
    "        for j in range(n):\n",
    "            a += matrix[j][i]\n",
    "        result.append(a)\n",
    "    return result\n",
    "        "
   ]
  },
  {
   "cell_type": "code",
   "execution_count": 106,
   "metadata": {
    "collapsed": true
   },
   "outputs": [],
   "source": [
    "# 改进\n",
    "def grayCode(n):\n",
    "    if n == 0:\n",
    "        return [0]\n",
    "    \n",
    "    def solution(n):\n",
    "        if n == 1:\n",
    "            return [0, 1]\n",
    "        total = 2**(n-1)\n",
    "        zeros = [0 for i in range(total)]\n",
    "        ones = [total for i in range(total)]\n",
    "        a = zeros + ones\n",
    "        b = solution(n - 1)\n",
    "        b = b + b[::-1]\n",
    "        result = []\n",
    "        for i in range(2 * total):\n",
    "            result.append(a[i] + b[i])\n",
    "        return result\n",
    "    return solution(n)\n"
   ]
  },
  {
   "cell_type": "code",
   "execution_count": 107,
   "metadata": {
    "collapsed": false
   },
   "outputs": [
    {
     "name": "stdout",
     "output_type": "stream",
     "text": [
      "[0, 1, 3, 2, 6, 7, 5, 4, 12, 13, 15, 14, 10, 11, 9, 8, 24, 25, 27, 26, 30, 31, 29, 28, 20, 21, 23, 22, 18, 19, 17, 16, 48, 49, 51, 50, 54, 55, 53, 52, 60, 61, 63, 62, 58, 59, 57, 56, 40, 41, 43, 42, 46, 47, 45, 44, 36, 37, 39, 38, 34, 35, 33, 32]\n"
     ]
    }
   ],
   "source": [
    "print  grayCode(6)"
   ]
  }
 ],
 "metadata": {
  "kernelspec": {
   "display_name": "Python 2",
   "language": "python",
   "name": "python2"
  },
  "language_info": {
   "codemirror_mode": {
    "name": "ipython",
    "version": 2
   },
   "file_extension": ".py",
   "mimetype": "text/x-python",
   "name": "python",
   "nbconvert_exporter": "python",
   "pygments_lexer": "ipython2",
   "version": "2.7.11"
  }
 },
 "nbformat": 4,
 "nbformat_minor": 0
}
