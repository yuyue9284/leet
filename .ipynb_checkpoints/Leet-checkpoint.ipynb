{
 "cells": [
  {
   "cell_type": "markdown",
   "metadata": {},
   "source": [
    "# 62. Unique Paths"
   ]
  },
  {
   "cell_type": "code",
   "execution_count": 30,
   "metadata": {
    "collapsed": false
   },
   "outputs": [],
   "source": [
    "def solution(m,n):\n",
    "    a = min(m-1,n-1)\n",
    "    s = m + n - 2\n",
    "    up = 1\n",
    "    down = 1 \n",
    "    for i in range(a):\n",
    "        up *= (s-i)\n",
    "        down *= (i+1)\n",
    "    return up/down\n",
    "    "
   ]
  },
  {
   "cell_type": "code",
   "execution_count": 31,
   "metadata": {
    "collapsed": false
   },
   "outputs": [
    {
     "data": {
      "text/plain": [
       "6"
      ]
     },
     "execution_count": 31,
     "metadata": {},
     "output_type": "execute_result"
    }
   ],
   "source": [
    "solution(3,3)"
   ]
  },
  {
   "cell_type": "markdown",
   "metadata": {},
   "source": [
    "# 63. Unique Paths II"
   ]
  },
  {
   "cell_type": "code",
   "execution_count": 42,
   "metadata": {
    "collapsed": false
   },
   "outputs": [],
   "source": [
    "def solution(obstacleGrid):\n",
    "    m = len(obstacleGrid)\n",
    "    n = len(obstacleGrid[0])\n",
    "    result = [0]\n",
    "    def find_way(x, y, result):\n",
    "        if x == n - 1 and y == m - 1:\n",
    "            result[0] += 1\n",
    "            return\n",
    "        elif x >= n or y >= m or obstacleGrid[y][x] == 1:\n",
    "            return\n",
    "        find_way(x + 1, y, result)\n",
    "        find_way(x, y + 1, result)\n",
    "    find_way(0, 0, result)\n",
    "    return result[0]\n",
    "\n",
    "# 会超时"
   ]
  },
  {
   "cell_type": "code",
   "execution_count": 44,
   "metadata": {
    "collapsed": false
   },
   "outputs": [
    {
     "data": {
      "text/plain": [
       "2"
      ]
     },
     "execution_count": 44,
     "metadata": {},
     "output_type": "execute_result"
    }
   ],
   "source": [
    "solution([\n",
    "  [0,0,0],\n",
    "  [0,1,0],\n",
    "  [0,0,0]\n",
    "])"
   ]
  },
  {
   "cell_type": "code",
   "execution_count": 55,
   "metadata": {
    "collapsed": true
   },
   "outputs": [],
   "source": [
    "# 把每个点到终点的路线数目记下来避免重复计算\n",
    "def solution(obstacleGrid):\n",
    "    m = len(obstacleGrid)\n",
    "    n = len(obstacleGrid[0])\n",
    "    temp = [[None for i in range(n)] for j in range(m)]\n",
    "    result = [0]\n",
    "    def find_way(x, y, result):\n",
    "        pre_result = result[0]\n",
    "        if x >= n or y >= m or obstacleGrid[y][x] == 1:\n",
    "            return\n",
    "        elif temp[y][x] is not None:\n",
    "            result[0] += temp[y][x]\n",
    "            return\n",
    "        elif x == n - 1 and y == m - 1:\n",
    "            result[0] += 1\n",
    "            return\n",
    "        find_way(x + 1, y, result)\n",
    "        find_way(x, y + 1, result)\n",
    "        temp[y][x] = result[0] - pre_result\n",
    "    find_way(0, 0, result)\n",
    "    return result[0]"
   ]
  },
  {
   "cell_type": "code",
   "execution_count": 56,
   "metadata": {
    "collapsed": false
   },
   "outputs": [
    {
     "data": {
      "text/plain": [
       "1"
      ]
     },
     "execution_count": 56,
     "metadata": {},
     "output_type": "execute_result"
    }
   ],
   "source": [
    "solution([\n",
    "  [0,0,0],\n",
    "])"
   ]
  }
 ],
 "metadata": {
  "kernelspec": {
   "display_name": "Python 2",
   "language": "python",
   "name": "python2"
  },
  "language_info": {
   "codemirror_mode": {
    "name": "ipython",
    "version": 2
   },
   "file_extension": ".py",
   "mimetype": "text/x-python",
   "name": "python",
   "nbconvert_exporter": "python",
   "pygments_lexer": "ipython2",
   "version": "2.7.11"
  }
 },
 "nbformat": 4,
 "nbformat_minor": 0
}
