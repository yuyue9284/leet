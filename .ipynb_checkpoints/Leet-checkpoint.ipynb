{
 "cells": [
  {
   "cell_type": "markdown",
   "metadata": {},
   "source": [
    "# 112. Path Sum"
   ]
  },
  {
   "cell_type": "code",
   "execution_count": null,
   "metadata": {
    "collapsed": true
   },
   "outputs": [],
   "source": [
    "class Solution(object):\n",
    "    def hasPathSum(self, root, sum):\n",
    "        \"\"\"\n",
    "        :type root: TreeNode\n",
    "        :type sum: int\n",
    "        :rtype: bool\n",
    "        \"\"\"\n",
    "        result = [False]\n",
    "        \n",
    "        def DFS(root, sum):\n",
    "            if root is None or result[0] == True:\n",
    "                return\n",
    "            else:\n",
    "                sum = sum - root.val\n",
    "                if root.left is None and root.right is None:\n",
    "                    if sum == 0:\n",
    "                        result[0] = True\n",
    "                        return\n",
    "                else:\n",
    "                    DFS(root.left, sum)\n",
    "                    DFS(root.right, sum)\n",
    "        DFS(root, sum)\n",
    "        return result[0]"
   ]
  },
  {
   "cell_type": "markdown",
   "metadata": {},
   "source": [
    "# 107. Binary Tree Level Order Traversal II"
   ]
  },
  {
   "cell_type": "code",
   "execution_count": null,
   "metadata": {
    "collapsed": true
   },
   "outputs": [],
   "source": [
    "def levelOrderBottom(self, root):\n",
    "        if root is None:\n",
    "            return []\n",
    "        l = [[root, 1]]\n",
    "        value = []\n",
    "\n",
    "        while len(l) != 0:\n",
    "            t = l.pop(0)\n",
    "            if t[0] is None:\n",
    "                continue\n",
    "            else:\n",
    "                l.append([t[0].right, t[1] + 1])\n",
    "                l.append([t[0].left, t[1] + 1])\n",
    "                value.append([t[0].val, t[1]])\n",
    "        depth = value[-1][1]\n",
    "        result = [[] for i in range(depth)]\n",
    "        while len(value) != 0:\n",
    "            t = value.pop(-1)\n",
    "            result[depth - t[1]].append(t[0])\n",
    "        return result"
   ]
  },
  {
   "cell_type": "markdown",
   "metadata": {},
   "source": [
    "# 198. House Robber"
   ]
  },
  {
   "cell_type": "code",
   "execution_count": null,
   "metadata": {
    "collapsed": true
   },
   "outputs": [],
   "source": [
    "class Solution(object):\n",
    "    def rob(self, nums):\n",
    "        \"\"\"\n",
    "        :type nums: List[int]\n",
    "        :rtype: int\n",
    "        \"\"\"\n",
    "        def rb(nums, money, length):\n",
    "            for i in range(2, length):\n",
    "                if money[i-1][1] == 1:\n",
    "                    if money[i-1][0] > (money[i-2][0] + nums[i]):\n",
    "                        money[i][1] = 0\n",
    "                        money[i][0] = money[i-1][0]\n",
    "                    else:\n",
    "                        money[i][0] = money[i-2][0] + nums[i]  \n",
    "                else:\n",
    "                    money[i][0] = money[i-1][0] + nums[i]\n",
    "        \n",
    "        length = len(nums)\n",
    "        if length == 1:\n",
    "            return nums[0]\n",
    "        elif length == 0:\n",
    "            return 0\n",
    "        \n",
    "        money = [[0,1] for i in range(length)]\n",
    "       \n",
    "        money[0] = [nums[0], 1]\n",
    "        if nums[0] > nums[1]:\n",
    "            money[1][0] = money[0][0]\n",
    "            money[1][1] = 0\n",
    "        else:\n",
    "            money[1][0] = nums[1]\n",
    "        \n",
    "        \n",
    "        if length == 2:\n",
    "            return money[1][0]\n",
    "        else:\n",
    "            rb(nums, money, length)\n",
    "            return money[-1][0]"
   ]
  },
  {
   "cell_type": "markdown",
   "metadata": {},
   "source": [
    "# 21. Merge Two Sorted Lists"
   ]
  },
  {
   "cell_type": "code",
   "execution_count": null,
   "metadata": {
    "collapsed": true
   },
   "outputs": [],
   "source": [
    "class Solution(object):\n",
    "    def mergeTwoLists(self, l1, l2):\n",
    "        \"\"\"\n",
    "        :type l1: ListNode\n",
    "        :type l2: ListNode\n",
    "        :rtype: ListNode\n",
    "        \"\"\"\n",
    "        h1 = l1\n",
    "        h2 = l2\n",
    "        r = ListNode(0)\n",
    "        h = r\n",
    "        while True:\n",
    "            if h1 is None:\n",
    "                r.next = h2\n",
    "                break\n",
    "            elif h2 is None:\n",
    "                r.next = h1\n",
    "                break\n",
    "            if h1.val > h2.val:\n",
    "                r.next = h2\n",
    "                h2 = h2.next\n",
    "            else:\n",
    "                r.next = h1\n",
    "                h1 = h1.next\n",
    "            r = r.next\n",
    "        return h.next"
   ]
  },
  {
   "cell_type": "markdown",
   "metadata": {},
   "source": [
    "# 26. Remove Duplicates from Sorted Array"
   ]
  },
  {
   "cell_type": "code",
   "execution_count": null,
   "metadata": {
    "collapsed": true
   },
   "outputs": [],
   "source": [
    "def removeDuplicates(self, nums):\n",
    "        # p = 0\n",
    "        # while p < len(nums) - 1:\n",
    "        #     if nums[p + 1] != nums[p]:\n",
    "        #         p += 1\n",
    "        #     else:\n",
    "        #         nums.pop(p + 1)\n",
    "        \n",
    "        # 直接使用内部set函数可以大幅度提高速度\n",
    "        nums[:] = sorted(set(nums))\n",
    "        return"
   ]
  },
  {
   "cell_type": "markdown",
   "metadata": {},
   "source": [
    "# 80. Remove Duplicates from Sorted Array II"
   ]
  },
  {
   "cell_type": "code",
   "execution_count": 5,
   "metadata": {
    "collapsed": true
   },
   "outputs": [],
   "source": [
    "def removeDuplicates(nums):\n",
    "    p = 0\n",
    "    rm_flag = False\n",
    "    while p < len(nums) - 1:\n",
    "        if nums[p + 1] != nums[p]:\n",
    "            p += 1\n",
    "            rm_flag = False\n",
    "        else:\n",
    "            if rm_flag:\n",
    "                nums.pop(p + 1)\n",
    "            else:\n",
    "                p += 1\n",
    "            rm_flag = True"
   ]
  },
  {
   "cell_type": "markdown",
   "metadata": {},
   "source": [
    "# 33. Search in Rotated Sorted Array"
   ]
  },
  {
   "cell_type": "code",
   "execution_count": 36,
   "metadata": {
    "collapsed": false
   },
   "outputs": [
    {
     "name": "stdout",
     "output_type": "stream",
     "text": [
      "[1, 3, 5]\n",
      "[2]\n"
     ]
    },
    {
     "data": {
      "text/plain": [
       "1"
      ]
     },
     "execution_count": 36,
     "metadata": {},
     "output_type": "execute_result"
    }
   ],
   "source": [
    "def find(p, q, nums, pivot):\n",
    "    if nums[p] < nums[q]:\n",
    "        return\n",
    "    else:\n",
    "        if q - p <= 1:\n",
    "            pivot[0] = q\n",
    "            return\n",
    "        else:\n",
    "            t = (p + q) / 2\n",
    "            find(t, q, nums, pivot)\n",
    "            find(p, t, nums, pivot)\n",
    "            return\n",
    "\n",
    "def binary_search(p, q, nums, target):\n",
    "    t = (p + q) / 2\n",
    "    if q - p <= 1:\n",
    "        if nums[p] == target:\n",
    "            return p\n",
    "        elif nums[q] == target:\n",
    "            return q\n",
    "        else:\n",
    "            return -1\n",
    "    elif nums[t] == target:\n",
    "        return t\n",
    "    elif nums[t] > target:\n",
    "        return binary_search(p, t, nums, target)\n",
    "    elif nums[t] < target:\n",
    "        return binary_search(t, q, nums, target)\n",
    "\n",
    "    \n",
    "def solution(nums, target):\n",
    "    pivot = [0]   \n",
    "    length = len(nums)\n",
    "    find(0, length - 1, nums, pivot)\n",
    "    nums = nums[pivot[0]:] + nums[0 : pivot[0]]\n",
    "\n",
    "    result = binary_search(0, length - 1, nums, target)\n",
    "    \n",
    "    if result == -1:\n",
    "        return -1\n",
    "    else:\n",
    "        return (result + pivot[0])%length\n",
    "solution([3,5,1], 5)"
   ]
  },
  {
   "cell_type": "markdown",
   "metadata": {},
   "source": [
    "# 62. Unique Paths"
   ]
  },
  {
   "cell_type": "code",
   "execution_count": 30,
   "metadata": {
    "collapsed": true
   },
   "outputs": [],
   "source": [
    "def solution(m,n):\n",
    "    a = min(m-1,n-1)\n",
    "    s = m + n - 2\n",
    "    up = 1\n",
    "    down = 1 \n",
    "    for i in range(a):\n",
    "        up *= (s-i)\n",
    "        down *= (i+1)\n",
    "    return up/down"
   ]
  },
  {
   "cell_type": "code",
   "execution_count": 31,
   "metadata": {
    "collapsed": false
   },
   "outputs": [
    {
     "data": {
      "text/plain": [
       "6"
      ]
     },
     "execution_count": 31,
     "metadata": {},
     "output_type": "execute_result"
    }
   ],
   "source": [
    "solution(3,3)"
   ]
  },
  {
   "cell_type": "markdown",
   "metadata": {},
   "source": [
    "# 63. Unique Paths II"
   ]
  },
  {
   "cell_type": "code",
   "execution_count": 5,
   "metadata": {
    "collapsed": true
   },
   "outputs": [],
   "source": [
    "def solution(obstacleGrid):\n",
    "    m = len(obstacleGrid)\n",
    "    n = len(obstacleGrid[0])\n",
    "    result = [0]\n",
    "    def find_way(x, y, result):\n",
    "        if x == n - 1 and y == m - 1:\n",
    "            result[0] += 1\n",
    "            return\n",
    "        elif x >= n or y >= m or obstacleGrid[y][x] == 1:\n",
    "            return\n",
    "        find_way(x + 1, y, result)\n",
    "        find_way(x, y + 1, result)\n",
    "    find_way(0, 0, result)\n",
    "    return result[0]\n",
    "\n",
    "# 会超时"
   ]
  },
  {
   "cell_type": "code",
   "execution_count": 6,
   "metadata": {
    "collapsed": false
   },
   "outputs": [
    {
     "data": {
      "text/plain": [
       "0"
      ]
     },
     "execution_count": 6,
     "metadata": {},
     "output_type": "execute_result"
    }
   ],
   "source": [
    "solution([\n",
    "  [0,0,0],\n",
    "  [0,1,0],\n",
    "  [0,0,0]\n",
    "])"
   ]
  },
  {
   "cell_type": "code",
   "execution_count": 55,
   "metadata": {
    "collapsed": true
   },
   "outputs": [],
   "source": [
    "# 把每个点到终点的路线数目记下来避免重复计算\n",
    "def solution(obstacleGrid):\n",
    "    m = len(obstacleGrid)\n",
    "    n = len(obstacleGrid[0])\n",
    "    temp = [[None for i in range(n)] for j in range(m)]\n",
    "    result = [0]\n",
    "    def find_way(x, y, result):\n",
    "        pre_result = result[0]\n",
    "        if x >= n or y >= m or obstacleGrid[y][x] == 1:\n",
    "            return\n",
    "        elif temp[y][x] is not None:\n",
    "            result[0] += temp[y][x]\n",
    "            return\n",
    "        elif x == n - 1 and y == m - 1:\n",
    "            result[0] += 1\n",
    "            return\n",
    "        find_way(x + 1, y, result)\n",
    "        find_way(x, y + 1, result)\n",
    "        temp[y][x] = result[0] - pre_result\n",
    "    find_way(0, 0, result)\n",
    "    return result[0]"
   ]
  },
  {
   "cell_type": "code",
   "execution_count": 56,
   "metadata": {
    "collapsed": false
   },
   "outputs": [
    {
     "data": {
      "text/plain": [
       "1"
      ]
     },
     "execution_count": 56,
     "metadata": {},
     "output_type": "execute_result"
    }
   ],
   "source": [
    "solution([\n",
    "  [0,0,0],\n",
    "])"
   ]
  },
  {
   "cell_type": "markdown",
   "metadata": {},
   "source": [
    "# 64. Minimum Path Sum"
   ]
  },
  {
   "cell_type": "code",
   "execution_count": 7,
   "metadata": {
    "collapsed": true
   },
   "outputs": [],
   "source": [
    "def solution(Grid):\n",
    "    Xmax = len(Grid[0])\n",
    "    Ymax = len(Grid)\n",
    "    temp = [[None for i in range(Xmax)] for j in range(Ymax)]\n",
    "    def find_min(temp, x, y, current):\n",
    "        if x >= Xmax or y >= Ymax:\n",
    "            return\n",
    "        else:\n",
    "            if temp[y][x] is None:\n",
    "                temp[y][x] = Grid[y][x] + current\n",
    "            else:\n",
    "                temp[y][x] = min(temp[y][x], current + Grid[y][x])\n",
    "            if x == Xmax - 1 and y == Ymax - 1:\n",
    "                return\n",
    "            find_min(temp, x, y + 1, temp[y][x])\n",
    "            find_min(temp, x + 1, y, temp[y][x])\n",
    "            return\n",
    "    find_min(temp, 0, 0, 0)\n",
    "    return temp[-1][-1]\n",
    "# 会超时"
   ]
  },
  {
   "cell_type": "code",
   "execution_count": 8,
   "metadata": {
    "collapsed": false
   },
   "outputs": [
    {
     "data": {
      "text/plain": [
       "70"
      ]
     },
     "execution_count": 8,
     "metadata": {},
     "output_type": "execute_result"
    }
   ],
   "source": [
    "solution([[7,1,3,5,8,9,9,2,1,9,0,8,3,1,6,6,9,5],[9,5,9,4,0,4,8,8,9,5,7,3,6,6,6,9,1,6],[6,7,9,8,4,8,3,0,4,0,9,6,6,0,0,5,1,4],[6,7,9,8,4,8,3,0,4,0,9,6,6,0,0,5,1,4],[6,7,9,8,4,8,3,0,4,0,9,6,6,0,0,5,1,4],[6,7,9,8,4,8,3,0,4,0,9,6,6,0,0,5,1,4],[6,7,9,8,4,8,3,0,4,0,9,6,6,0,0,5,1,4],[6,7,9,8,4,8,3,0,4,0,9,6,6,0,0,5,1,4],[6,7,9,8,4,8,3,0,4,0,9,6,6,0,0,5,1,4]])"
   ]
  },
  {
   "cell_type": "code",
   "execution_count": 16,
   "metadata": {
    "collapsed": true
   },
   "outputs": [],
   "source": [
    "# 换个思路 对于每个点上一步不是上面一点，就是左面一点\n",
    "def solution(grid):\n",
    "    Xmax = len(grid[0])\n",
    "    Ymax = len(grid)\n",
    "    temp = [[None for i in range(Xmax)] for j in range(Ymax)]\n",
    "    temp[0][0] = grid[0][0] \n",
    "    for i in range(Ymax):\n",
    "        for j in range(Xmax):\n",
    "            if i == 0:\n",
    "                if j == 0:\n",
    "                    continue\n",
    "                temp[i][j] = temp[i][j - 1] + grid[i][j]\n",
    "            elif j == 0:\n",
    "                if i == 0:\n",
    "                    continue\n",
    "                temp[i][j] = temp[i - 1][j] + grid[i][j]\n",
    "            else:\n",
    "                temp[i][j] = min(temp[i - 1][j], temp[i][j - 1]) + grid[i][j]\n",
    "                \n",
    "    return temp[-1][-1]"
   ]
  },
  {
   "cell_type": "code",
   "execution_count": 17,
   "metadata": {
    "collapsed": false
   },
   "outputs": [
    {
     "data": {
      "text/plain": [
       "70"
      ]
     },
     "execution_count": 17,
     "metadata": {},
     "output_type": "execute_result"
    }
   ],
   "source": [
    "solution([[7,1,3,5,8,9,9,2,1,9,0,8,3,1,6,6,9,5],[9,5,9,4,0,4,8,8,9,5,7,3,6,6,6,9,1,6],[6,7,9,8,4,8,3,0,4,0,9,6,6,0,0,5,1,4],[6,7,9,8,4,8,3,0,4,0,9,6,6,0,0,5,1,4],[6,7,9,8,4,8,3,0,4,0,9,6,6,0,0,5,1,4],[6,7,9,8,4,8,3,0,4,0,9,6,6,0,0,5,1,4],[6,7,9,8,4,8,3,0,4,0,9,6,6,0,0,5,1,4],[6,7,9,8,4,8,3,0,4,0,9,6,6,0,0,5,1,4],[6,7,9,8,4,8,3,0,4,0,9,6,6,0,0,5,1,4]])"
   ]
  },
  {
   "cell_type": "markdown",
   "metadata": {},
   "source": [
    "# 69. Sqrt(x)"
   ]
  },
  {
   "cell_type": "code",
   "execution_count": 40,
   "metadata": {
    "collapsed": false
   },
   "outputs": [
    {
     "data": {
      "text/plain": [
       "13110"
      ]
     },
     "execution_count": 40,
     "metadata": {},
     "output_type": "execute_result"
    }
   ],
   "source": [
    "def mySqrt(x):\n",
    "        if x == 0:\n",
    "            return 0\n",
    "        elif x <= 3:\n",
    "            return 1\n",
    "       \n",
    "        def Sqrt(x, base):\n",
    "            i = base\n",
    "            step = 1\n",
    "            if (i + 1)**2 > x:\n",
    "                return i\n",
    "            while True:\n",
    "                if i**2 == x:\n",
    "                    return i\n",
    "                else:\n",
    "                    if i**2 > x:\n",
    "                        flag = 0\n",
    "                        step /= 2\n",
    "                        i -= step\n",
    "                        return Sqrt(x, i)\n",
    "                    else:\n",
    "                        i += step\n",
    "                        step *= 2\n",
    "        return Sqrt(x, 1)\n",
    "\n",
    "mySqrt(171886642)"
   ]
  },
  {
   "cell_type": "markdown",
   "metadata": {},
   "source": [
    "# 36. Valid Sudoku"
   ]
  },
  {
   "cell_type": "code",
   "execution_count": 74,
   "metadata": {
    "collapsed": true
   },
   "outputs": [],
   "source": [
    "def isValidSudoku(board):\n",
    "    horizontal = [set() for i in range(9)]\n",
    "    vertical = [set() for i in range(9)]\n",
    "    cell = [set() for i in range(9)]\n",
    "    for i in range(9):\n",
    "        for j in range(9):\n",
    "            if board[i][j] == '.':\n",
    "                continue\n",
    "            else:\n",
    "                temp = int(board[i][j]) - 1\n",
    "                if (j) in horizontal[temp] or (i) in vertical[temp] or temp in cell[i/3*3 + j/3]:\n",
    "                    return False\n",
    "                else:\n",
    "                    horizontal[temp].add(j)\n",
    "                    vertical[temp].add(i)\n",
    "                    cell[i/3*3 + j/3].add(temp)\n",
    "    return True"
   ]
  },
  {
   "cell_type": "code",
   "execution_count": 75,
   "metadata": {
    "collapsed": false
   },
   "outputs": [
    {
     "data": {
      "text/plain": [
       "True"
      ]
     },
     "execution_count": 75,
     "metadata": {},
     "output_type": "execute_result"
    }
   ],
   "source": [
    "isValidSudoku([\".........\",\"4........\",\"......6..\",\"...38....\",\".5...6..1\",\"8......6.\",\".........\",\"..7.9....\",\"...6.....\"])"
   ]
  },
  {
   "cell_type": "markdown",
   "metadata": {},
   "source": [
    "# 73. Set Matrix Zeroes"
   ]
  },
  {
   "cell_type": "code",
   "execution_count": 9,
   "metadata": {
    "collapsed": true
   },
   "outputs": [],
   "source": [
    "def setZeroes(matrix):\n",
    "    m = len(matrix)\n",
    "    n = len(matrix[0])\n",
    "    column = set()\n",
    "    row = set()\n",
    "    for i in range(m):\n",
    "        for j in range(n):\n",
    "            if matrix[i][j] == 0:\n",
    "                column.add(j)\n",
    "                row.add(i)\n",
    "    row_set = [0 for i in range(n)]\n",
    "    for i in column:\n",
    "        for j in range(m):\n",
    "            matrix[j][i] = 0\n",
    "    for i in row:\n",
    "        matrix[i] = row_set"
   ]
  },
  {
   "cell_type": "markdown",
   "metadata": {},
   "source": [
    "# 74. Search a 2D Matrix"
   ]
  },
  {
   "cell_type": "code",
   "execution_count": 115,
   "metadata": {
    "collapsed": true
   },
   "outputs": [],
   "source": [
    "def searchMatrix(matrix, target):\n",
    "    # 估计要用折半查找\n",
    "    if target < matrix[0][0] or target > matrix[-1][-1]:\n",
    "        return False\n",
    "    def Binary_search(lst, target):\n",
    "        length = len(lst)\n",
    "        if length == 0:\n",
    "            return False\n",
    "        else:\n",
    "            tmp = length / 2\n",
    "            if lst[tmp] == target:\n",
    "                return True\n",
    "            elif lst[tmp] < target:\n",
    "                return Binary_search(lst[tmp + 1:], target)\n",
    "            else:\n",
    "                return Binary_search(lst[:tmp], target)\n",
    "    join = []\n",
    "    for i in matrix:\n",
    "        join += i\n",
    "    return Binary_search(join, target)"
   ]
  },
  {
   "cell_type": "code",
   "execution_count": 116,
   "metadata": {
    "collapsed": false
   },
   "outputs": [
    {
     "data": {
      "text/plain": [
       "True"
      ]
     },
     "execution_count": 116,
     "metadata": {},
     "output_type": "execute_result"
    }
   ],
   "source": [
    "a = [\n",
    "  [1,   3,  5,  7],\n",
    "  [10, 11, 16, 20],\n",
    "  [23, 30, 34, 50]\n",
    "]\n",
    "\n",
    "searchMatrix(a ,3)"
   ]
  },
  {
   "cell_type": "code",
   "execution_count": 120,
   "metadata": {
    "collapsed": false
   },
   "outputs": [
    {
     "data": {
      "text/plain": [
       "[1]"
      ]
     },
     "execution_count": 120,
     "metadata": {},
     "output_type": "execute_result"
    }
   ],
   "source": [
    "[1,1][0:1]"
   ]
  },
  {
   "cell_type": "markdown",
   "metadata": {},
   "source": [
    "# 89. Gray Code"
   ]
  },
  {
   "cell_type": "code",
   "execution_count": 90,
   "metadata": {
    "collapsed": true
   },
   "outputs": [],
   "source": [
    "def grayCode(n):\n",
    "    if n == 0:\n",
    "        return [0]\n",
    "    \n",
    "    def solution(n):\n",
    "        if n == 1:\n",
    "            return [[0, 1]]\n",
    "        total = 2**(n-1)\n",
    "        zeros = [0 for i in range(total)]\n",
    "        ones = [total for i in range(total)]\n",
    "        temp = []\n",
    "        temp.append(zeros + ones)\n",
    "        for i in solution(n - 1):\n",
    "            temp.append(i+i[::-1])\n",
    "        return temp\n",
    "    \n",
    "    matrix = solution(n)\n",
    "    result = []\n",
    "    for i in range(len(matrix[0])):\n",
    "        a = 0\n",
    "        for j in range(n):\n",
    "            a += matrix[j][i]\n",
    "        result.append(a)\n",
    "    return result"
   ]
  },
  {
   "cell_type": "code",
   "execution_count": 106,
   "metadata": {
    "collapsed": true
   },
   "outputs": [],
   "source": [
    "# 改进\n",
    "def grayCode(n):\n",
    "    if n == 0:\n",
    "        return [0]\n",
    "    \n",
    "    def solution(n):\n",
    "        if n == 1:\n",
    "            return [0, 1]\n",
    "        total = 2**(n-1)\n",
    "        zeros = [0 for i in range(total)]\n",
    "        ones = [total for i in range(total)]\n",
    "        a = zeros + ones\n",
    "        b = solution(n - 1)\n",
    "        b = b + b[::-1]\n",
    "        result = []\n",
    "        for i in range(2 * total):\n",
    "            result.append(a[i] + b[i])\n",
    "        return result\n",
    "    return solution(n)"
   ]
  },
  {
   "cell_type": "code",
   "execution_count": 107,
   "metadata": {
    "collapsed": false
   },
   "outputs": [
    {
     "name": "stdout",
     "output_type": "stream",
     "text": [
      "[0, 1, 3, 2, 6, 7, 5, 4, 12, 13, 15, 14, 10, 11, 9, 8, 24, 25, 27, 26, 30, 31, 29, 28, 20, 21, 23, 22, 18, 19, 17, 16, 48, 49, 51, 50, 54, 55, 53, 52, 60, 61, 63, 62, 58, 59, 57, 56, 40, 41, 43, 42, 46, 47, 45, 44, 36, 37, 39, 38, 34, 35, 33, 32]\n"
     ]
    }
   ],
   "source": [
    "print  grayCode(6)"
   ]
  },
  {
   "cell_type": "markdown",
   "metadata": {},
   "source": [
    "# 75. Sort Colors"
   ]
  },
  {
   "cell_type": "code",
   "execution_count": 136,
   "metadata": {
    "collapsed": true
   },
   "outputs": [],
   "source": [
    "def sortColors(nums):\n",
    "    red = []\n",
    "    white = []\n",
    "    blue = []\n",
    "    for i in nums:\n",
    "        if i == 0:\n",
    "            red.append(0)\n",
    "        elif i == 1:\n",
    "            white.append(1)\n",
    "        else:\n",
    "            blue.append(2)\n",
    "    nums[:] = (red + white + blue)"
   ]
  },
  {
   "cell_type": "code",
   "execution_count": 137,
   "metadata": {
    "collapsed": false
   },
   "outputs": [
    {
     "name": "stdout",
     "output_type": "stream",
     "text": [
      "[0, 0, 0, 0, 1, 1, 1, 1, 1, 2, 2, 2, 2]\n",
      "[0, 0, 0, 0, 1, 1, 1, 1, 1, 2, 2, 2, 2]\n"
     ]
    }
   ],
   "source": [
    "a = [1,2,2,2,1,1,0,1,0,0,0,2,1]\n",
    "sortColors(a)\n",
    "print a"
   ]
  },
  {
   "cell_type": "markdown",
   "metadata": {},
   "source": [
    "# 77. Combinations"
   ]
  },
  {
   "cell_type": "code",
   "execution_count": 186,
   "metadata": {
    "collapsed": false
   },
   "outputs": [
    {
     "data": {
      "text/plain": [
       "[[1, 2, 3],\n",
       " [1, 2, 4],\n",
       " [1, 2, 5],\n",
       " [1, 2, 6],\n",
       " [1, 3, 4],\n",
       " [1, 3, 5],\n",
       " [1, 3, 6],\n",
       " [1, 4, 5],\n",
       " [1, 4, 6],\n",
       " [1, 5, 6],\n",
       " [2, 3, 4],\n",
       " [2, 3, 5],\n",
       " [2, 3, 6],\n",
       " [2, 4, 5],\n",
       " [2, 4, 6],\n",
       " [2, 5, 6],\n",
       " [3, 4, 5],\n",
       " [3, 4, 6],\n",
       " [3, 5, 6],\n",
       " [4, 5, 6]]"
      ]
     },
     "execution_count": 186,
     "metadata": {},
     "output_type": "execute_result"
    }
   ],
   "source": [
    "def combine(n, k):\n",
    "    result = []\n",
    "    candidate = [(i + 1) for i in range(n)]\n",
    "    if n == k:\n",
    "        return [candidate]\n",
    "    def combine(k, x, t, result):\n",
    "        if k == 1:\n",
    "            for i in candidate[x:]:\n",
    "                result.append(t + [i])\n",
    "        else:\n",
    "            for i in candidate[x:(-k + 1)]:\n",
    "                a = t + [i]\n",
    "                combine(k - 1, i, a, result)\n",
    "    combine(k, 0, [], result)\n",
    "    return result\n",
    "\n",
    "combine(6,3)"
   ]
  },
  {
   "cell_type": "markdown",
   "metadata": {},
   "source": [
    "# 226.Invert Binary Tree"
   ]
  },
  {
   "cell_type": "code",
   "execution_count": 1,
   "metadata": {
    "collapsed": true
   },
   "outputs": [],
   "source": [
    "class Solution(object):\n",
    "    def invertTree(self, root):\n",
    "        \"\"\"\n",
    "        :type root: TreeNode\n",
    "        :rtype: TreeNode\n",
    "        \"\"\"\n",
    "        if root is None:\n",
    "            return None\n",
    "        else:\n",
    "            temp = Solution.invertTree(self, root.left)\n",
    "            root.left = Solution.invertTree(self, root.right)\n",
    "            root.right = temp\n",
    "        return root"
   ]
  },
  {
   "cell_type": "markdown",
   "metadata": {},
   "source": [
    "# 283. Move Zeroes"
   ]
  },
  {
   "cell_type": "code",
   "execution_count": 16,
   "metadata": {
    "collapsed": true
   },
   "outputs": [],
   "source": [
    "def moveZeroes(nums):\n",
    "    length = len(nums)\n",
    "    zero = []\n",
    "    for i in range(length):\n",
    "        if nums[i] == 0:\n",
    "            zero.append(0)\n",
    "        else:\n",
    "            nums[i - len(zero)] = nums[i]\n",
    "    nums[-1:-len(zero)-1:-1] = zero[:]"
   ]
  },
  {
   "cell_type": "code",
   "execution_count": 19,
   "metadata": {
    "collapsed": false
   },
   "outputs": [
    {
     "name": "stdout",
     "output_type": "stream",
     "text": [
      "[1, 2, 3, 4, 5, 0, 0, 0, 0, 0, 0, 0, 0]\n"
     ]
    }
   ],
   "source": [
    "a = [0,1,0,2,0,0,0,3,0,0,4,0,5]\n",
    "moveZeroes(a)\n",
    "print a"
   ]
  },
  {
   "cell_type": "markdown",
   "metadata": {},
   "source": [
    "# 100. Same Tree"
   ]
  },
  {
   "cell_type": "code",
   "execution_count": 20,
   "metadata": {
    "collapsed": true
   },
   "outputs": [],
   "source": [
    "def isSameTree(self, p, q):\n",
    "        \"\"\"\n",
    "        :type p: TreeNode\n",
    "        :type q: TreeNode\n",
    "        :rtype: bool\n",
    "        \"\"\"\n",
    "        result = [True]\n",
    "        def DFS(p, q, result):\n",
    "            if p is None and q is None or result[0] == False:\n",
    "                return\n",
    "            if p is None and q is not None or q is None and p is not None or p.val != q.val:\n",
    "                result[0] = False\n",
    "                return \n",
    "            else:\n",
    "                DFS(p.left, q.left, result)\n",
    "                DFS(p.right, q.right, result) \n",
    "        DFS(p, q, result)\n",
    "        \n",
    "        return result[0]"
   ]
  },
  {
   "cell_type": "markdown",
   "metadata": {},
   "source": [
    "# 242. Valid Anagram"
   ]
  },
  {
   "cell_type": "code",
   "execution_count": 40,
   "metadata": {
    "collapsed": true
   },
   "outputs": [],
   "source": [
    "def solution(s, t):\n",
    "    length_s = len(s)\n",
    "    length_t = len(t)\n",
    "    if length_s != length_t:\n",
    "        return False\n",
    "    a = {}\n",
    "    b = {}\n",
    "    for i in range(length_s):\n",
    "        if a.get(s[i]) is None:\n",
    "            a[s[i]] = 0\n",
    "        else:\n",
    "            a[s[i]] += 1\n",
    "        if b.get(t[i]) is None:\n",
    "            b[t[i]] = 0\n",
    "        else:\n",
    "            b[t[i]] += 1\n",
    "    for key in a:\n",
    "        if b.get(key) is None or a.get(key) != b.get(key):\n",
    "            return False\n",
    "    \n",
    "    return True"
   ]
  },
  {
   "cell_type": "code",
   "execution_count": 42,
   "metadata": {
    "collapsed": false
   },
   "outputs": [
    {
     "data": {
      "text/plain": [
       "True"
      ]
     },
     "execution_count": 42,
     "metadata": {},
     "output_type": "execute_result"
    }
   ],
   "source": [
    "solution('cat','act')"
   ]
  },
  {
   "cell_type": "markdown",
   "metadata": {},
   "source": [
    "# 78. Subsets"
   ]
  },
  {
   "cell_type": "code",
   "execution_count": 81,
   "metadata": {
    "collapsed": true
   },
   "outputs": [],
   "source": [
    "def find_subsets(nums, start, length, n, container, result):\n",
    "    for i in range(start, length - n + 1):\n",
    "        container[-n] = nums[i]\n",
    "        if n == 1:\n",
    "            result.append(container[:])\n",
    "        else:\n",
    "            find_subsets(nums, i+1, length, n-1, container, result)\n",
    "\n",
    "def solution(nums):\n",
    "    length = len(nums)\n",
    "    result = [[]]\n",
    "    if length == 0:\n",
    "        return result\n",
    "    nums.sort()\n",
    "    for i in range(0,length):\n",
    "        container = [None for j in range(i + 1)]\n",
    "        find_subsets(nums, 0, length, i + 1, container, result)\n",
    "    return result"
   ]
  },
  {
   "cell_type": "markdown",
   "metadata": {},
   "source": [
    "# 171. Excel Sheet Column Number"
   ]
  },
  {
   "cell_type": "code",
   "execution_count": 122,
   "metadata": {
    "collapsed": true
   },
   "outputs": [],
   "source": [
    "def solution(s):\n",
    "    length = len(s)\n",
    "    result = 0\n",
    "    for i in range(length):\n",
    "        result += 26 ** (length - 1 - i) * (ord(s[i]) - 64)\n",
    "    return result"
   ]
  },
  {
   "cell_type": "code",
   "execution_count": 125,
   "metadata": {
    "collapsed": false
   },
   "outputs": [
    {
     "data": {
      "text/plain": [
       "2"
      ]
     },
     "execution_count": 125,
     "metadata": {},
     "output_type": "execute_result"
    }
   ],
   "source": [
    "solution('B')"
   ]
  },
  {
   "cell_type": "markdown",
   "metadata": {},
   "source": [
    "# 79. Word Search"
   ]
  },
  {
   "cell_type": "code",
   "execution_count": 126,
   "metadata": {
    "collapsed": true
   },
   "outputs": [],
   "source": [
    "def exist(self, board, word):\n",
    "        def find_words(s, x, y, height, width, board, flag, pre):\n",
    "            if flag[0] == True or x < 0 or y < 0 or x >= width or y >= height:\n",
    "                return\n",
    "            if board[y][x] is None:\n",
    "                return\n",
    "            else:\n",
    "                if board[y][x] == s[0]:\n",
    "                    board [y][x] = None\n",
    "                    if len(s) == 1:\n",
    "                        flag[0] = True\n",
    "                        return\n",
    "                    for i in [[1, 0], [-1, 0], [0, 1], [0, -1]]:\n",
    "                        if flag[0] == True:\n",
    "                            return\n",
    "                        find_words(s[1:], x + i[0], y + i[1], height, width, board, flag, [x, y])\n",
    "                    board[y][x] = s[0]\n",
    "                else:\n",
    "                    return\n",
    "\n",
    "\n",
    "        s = word\n",
    "        height = len(board)\n",
    "        width = len(board[0])\n",
    "        flag = [False]\n",
    "        length = len(s)\n",
    "        if s is None:\n",
    "            return\n",
    "        for i in range(height):\n",
    "            for j in range(width):\n",
    "                if board[i][j] == s[0]:\n",
    "                    if length == 1:\n",
    "                        return True\n",
    "                    else:\n",
    "                        find_words(s[:], j, i, height, width, board, flag, [j,i])\n",
    "        return flag[0]"
   ]
  },
  {
   "cell_type": "markdown",
   "metadata": {},
   "source": [
    "# 206. Reverse Linked List"
   ]
  },
  {
   "cell_type": "code",
   "execution_count": null,
   "metadata": {
    "collapsed": true
   },
   "outputs": [],
   "source": [
    "def reverseList(self, head):\n",
    "        \"\"\"\n",
    "        :type head: ListNode\n",
    "        :rtype: ListNode\n",
    "        \"\"\"\n",
    "        if head is None or head.next is None:\n",
    "            return head\n",
    "        \n",
    "        def solution(pre, now):\n",
    "            if now.next is None:\n",
    "                now.next = pre\n",
    "                return now\n",
    "            else:\n",
    "                result = solution(now, now.next)\n",
    "                now.next = pre\n",
    "                return result\n",
    "        \n",
    "        result = solution(head, head.next)\n",
    "        \n",
    "        head.next = None\n",
    "\n",
    "        return result"
   ]
  },
  {
   "cell_type": "markdown",
   "metadata": {},
   "source": [
    "# 83. Remove Duplicates from Sorted List"
   ]
  },
  {
   "cell_type": "code",
   "execution_count": null,
   "metadata": {
    "collapsed": true
   },
   "outputs": [],
   "source": [
    "def deleteDuplicates(self, head):\n",
    "        \"\"\"\n",
    "        :type head: ListNode\n",
    "        :rtype: ListNode\n",
    "        \"\"\"\n",
    "        if head is None:\n",
    "            return None\n",
    "        def solution(pre, now):\n",
    "            if now.next is None:\n",
    "                pre.next = None\n",
    "            else:\n",
    "                if now.val !=now.next.val:\n",
    "                    pre.next = now.next\n",
    "                    solution(now.next, now.next)\n",
    "                else:\n",
    "                    solution(pre, now.next)\n",
    "        solution(head, head)\n",
    "        return head"
   ]
  },
  {
   "cell_type": "markdown",
   "metadata": {},
   "source": [
    "# 101. Symmetric Tree"
   ]
  },
  {
   "cell_type": "code",
   "execution_count": null,
   "metadata": {
    "collapsed": true
   },
   "outputs": [],
   "source": [
    "def DFS(p, q, result):\n",
    "    if p is None and q is None or result[0] == False:\n",
    "        return\n",
    "    if p is None and q is not None or q is None and p is not None or p.val != q.val:\n",
    "        result[0] = False\n",
    "        return \n",
    "    else:\n",
    "        DFS(p.left, q.right, result)\n",
    "        DFS(p.right, q.left, result) \n",
    "\n",
    "def BFS(p, q, result):\n",
    "    t1 = [p]\n",
    "    t2 = [q]\n",
    "    while len(t1) > 0:\n",
    "        p = t1.pop(0)\n",
    "        q = t2.pop(0)\n",
    "        if p is None or q is None:\n",
    "            if q is None and p is None:\n",
    "                continue\n",
    "            else:\n",
    "                result[0] = False\n",
    "                return\n",
    "        elif p.val != q.val:\n",
    "            result[0] = False\n",
    "            return\n",
    "        else:\n",
    "            t1.append(p.left)\n",
    "            t1.append(p.right)\n",
    "            t2.append(q.right)\n",
    "            t2.append(q.left)\n",
    "    return\n",
    "    \n",
    "    \n",
    "    \n",
    "if root is None:\n",
    "    return True\n",
    "else:\n",
    "    result = [True]\n",
    "    DFS(root.left, root.right, result)\n",
    "    return result[0]"
   ]
  },
  {
   "cell_type": "markdown",
   "metadata": {},
   "source": [
    "# 81. Search in Rotated Sorted Array II"
   ]
  },
  {
   "cell_type": "code",
   "execution_count": 72,
   "metadata": {
    "collapsed": true
   },
   "outputs": [],
   "source": [
    "def binary_search(p, q, nums, target, result):\n",
    "    if result[0] == True:\n",
    "        return\n",
    "    if nums[p] == target or nums[q] == target:\n",
    "        result[0] = True\n",
    "        return\n",
    "    if q - p <= 1:\n",
    "        return\n",
    "    t = (p + q) / 2\n",
    "    if nums[t] == target:\n",
    "        result[0] = True\n",
    "    elif nums[t] > target:\n",
    "        binary_search(p, t, nums, target, result)\n",
    "    elif nums[t] < target:\n",
    "        binary_search(t, q, nums, target, result)\n",
    "\n",
    "    \n",
    "def find(nums, target, result, p, q):\n",
    "    if result[0] == True:\n",
    "        return\n",
    "    else:\n",
    "        if q - p <= 1:\n",
    "            if nums[p] == target or nums[q] == target:\n",
    "                result[0] = True\n",
    "            return\n",
    "        if nums[p] >= nums[q]:\n",
    "            t = (p + q) / 2\n",
    "            find(nums, target, result, t, q)\n",
    "            find(nums, target, result, p, t)\n",
    "        else:\n",
    "            binary_search(p, q, nums, target, result)\n",
    "def solution(nums, target):\n",
    "    result = [False]\n",
    "    find(nums, target, result, 0, len(nums) - 1)\n",
    "    return result[0]"
   ]
  },
  {
   "cell_type": "code",
   "execution_count": 73,
   "metadata": {
    "collapsed": false
   },
   "outputs": [
    {
     "data": {
      "text/plain": [
       "False"
      ]
     },
     "execution_count": 73,
     "metadata": {},
     "output_type": "execute_result"
    }
   ],
   "source": [
    "solution([1,1,1,2,2,2,3,3,3,-6,-5,-4,-3,-2,-2,-2,-2,-1,-1], -10)"
   ]
  },
  {
   "cell_type": "markdown",
   "metadata": {},
   "source": [
    "# 160. Intersection of Two Linked Lists"
   ]
  },
  {
   "cell_type": "code",
   "execution_count": null,
   "metadata": {
    "collapsed": true
   },
   "outputs": [],
   "source": [
    "def getIntersectionNode(self, headA, headB):\n",
    "        \"\"\"\n",
    "        :type head1, head1: ListNode\n",
    "        :rtype: ListNode\n",
    "        \"\"\"\n",
    "        l = 0\n",
    "        t = headA\n",
    "        while t is not None:\n",
    "            l += 1\n",
    "            t = t.next\n",
    "        \n",
    "        t = headB\n",
    "        while t is not None:\n",
    "            l -= 1\n",
    "            t = t.next\n",
    "        \n",
    "        p = headA\n",
    "        q = headB\n",
    "\n",
    "            \n",
    "        if l > 0:\n",
    "            while l > 0:\n",
    "                l -= 1\n",
    "                p = p.next\n",
    "        elif l < 0:\n",
    "            while l < 0:\n",
    "                l += 1\n",
    "                q = q.next\n",
    "\n",
    "        while p is not None:\n",
    "            if p == q:\n",
    "                return p\n",
    "            else:\n",
    "                p = p.next\n",
    "                q = q.next\n",
    "        \n",
    "        return None"
   ]
  },
  {
   "cell_type": "markdown",
   "metadata": {},
   "source": [
    "# 82. Remove Duplicates from Sorted List II"
   ]
  },
  {
   "cell_type": "code",
   "execution_count": 1,
   "metadata": {
    "collapsed": true
   },
   "outputs": [],
   "source": [
    "class Solution(object):\n",
    "    def deleteDuplicates(self, head):\n",
    "        \"\"\"\n",
    "        :type head: ListNode\n",
    "        :rtype: ListNode\n",
    "        \"\"\"\n",
    "        if head is None:\n",
    "            return\n",
    "        if head.next is None:\n",
    "            return head\n",
    "        else:\n",
    "            if head.val != head.next.val:\n",
    "                safe = head\n",
    "                p = head\n",
    "                h = ListNode(head.val + 1)\n",
    "                h.next = head\n",
    "            else:\n",
    "                h = ListNode(head.val + 1)\n",
    "                h.next = head\n",
    "                safe = h\n",
    "                p = h\n",
    "        \n",
    "        while p.next.next is not None:\n",
    "            if p.val == p.next.val or p.next.val == p.next.next.val:\n",
    "                p = p.next\n",
    "            else:\n",
    "                safe.next = p.next\n",
    "                safe = p.next\n",
    "                p = p.next\n",
    "        if p.val != p.next.val:\n",
    "            safe.next = p.next\n",
    "        else:\n",
    "            safe.next = None\n",
    "        return h.next"
   ]
  },
  {
   "cell_type": "markdown",
   "metadata": {},
   "source": [
    "# 223. Rectangle Area"
   ]
  },
  {
   "cell_type": "code",
   "execution_count": 2,
   "metadata": {
    "collapsed": true
   },
   "outputs": [],
   "source": [
    "class Solution(object):\n",
    "    def computeArea(self, A, B, C, D, E, F, G, H):\n",
    "        \"\"\"\n",
    "        :type A: int\n",
    "        :type B: int\n",
    "        :type C: int\n",
    "        :type D: int\n",
    "        :type E: int\n",
    "        :type F: int\n",
    "        :type G: int\n",
    "        :type H: int\n",
    "        :rtype: int\n",
    "        \"\"\"\n",
    "        \n",
    "        def intersection(A, B):\n",
    "            if A[0] >= B[1] or B[0] >= A[1]:\n",
    "                return 0\n",
    "            else:\n",
    "                return (min(B[1], A[1]) - max(A[0], B[0]))\n",
    "        \n",
    "        return (C-A)*(D-B)+(G-E)*(H-F)-intersection([A, C], [E, G]) * intersection([B, D], [F, H])"
   ]
  },
  {
   "cell_type": "markdown",
   "metadata": {},
   "source": [
    "# 86. Partition List"
   ]
  },
  {
   "cell_type": "code",
   "execution_count": null,
   "metadata": {
    "collapsed": true
   },
   "outputs": [],
   "source": [
    "# Definition for singly-linked list.\n",
    "# class ListNode(object):\n",
    "#     def __init__(self, x):\n",
    "#         self.val = x\n",
    "#         self.next = None\n",
    "\n",
    "class Solution(object):\n",
    "    def partition(self, head, x):\n",
    "        \"\"\"\n",
    "        :type head: ListNode\n",
    "        :type x: int\n",
    "        :rtype: ListNode\n",
    "        \"\"\"\n",
    "        if head is None:\n",
    "            return\n",
    "        h1 = ListNode(0)\n",
    "        h2 = ListNode(0)\n",
    "        q = h1\n",
    "        p = h2\n",
    "        while head is not None:\n",
    "            if head.val < x:\n",
    "                p.next = head\n",
    "                p = p.next\n",
    "            else:\n",
    "                q.next = head\n",
    "                q = q.next\n",
    "            head = head.next\n",
    "        q.next = None\n",
    "        p.next = h1.next\n",
    "        return h2.next"
   ]
  },
  {
   "cell_type": "markdown",
   "metadata": {},
   "source": [
    "# 90. Subsets II"
   ]
  },
  {
   "cell_type": "code",
   "execution_count": 15,
   "metadata": {
    "collapsed": true
   },
   "outputs": [],
   "source": [
    "def solution(lst):\n",
    "    length = len(lst)\n",
    "    result = [[]]\n",
    "    def sub(lst, length, size, p, share, result):\n",
    "        if size == 1:\n",
    "            for i in range(p, length):\n",
    "                if i > p and lst[i - 1] == lst[i]:\n",
    "                    continue\n",
    "                a = share + [lst[i]]\n",
    "                result.append(a[:])\n",
    "            return\n",
    "        for i in range(p, length + 1 - size):\n",
    "            if i > p and lst[i - 1] == lst[i]:\n",
    "                continue\n",
    "            a = share + [lst[i]]\n",
    "            sub(lst, length, size - 1, i+1, a, result)\n",
    "    lst = sorted(lst)\n",
    "    for i in range(length):\n",
    "        sub(lst, length, i + 1, 0, [], result)\n",
    "    print result"
   ]
  },
  {
   "cell_type": "code",
   "execution_count": 16,
   "metadata": {
    "collapsed": false
   },
   "outputs": [
    {
     "name": "stdout",
     "output_type": "stream",
     "text": [
      "[[], [1], [1, 1]]\n"
     ]
    }
   ],
   "source": [
    "solution([1,1])"
   ]
  },
  {
   "cell_type": "markdown",
   "metadata": {},
   "source": [
    "# 91. Decode Ways"
   ]
  },
  {
   "cell_type": "code",
   "execution_count": 58,
   "metadata": {
    "collapsed": true
   },
   "outputs": [],
   "source": [
    "# 超时\n",
    "# def solution(s):\n",
    "#     def decode(s, result):\n",
    "#         length = len(s)\n",
    "#         if length == 0:\n",
    "#             return\n",
    "#         if length == 1:\n",
    "#             result[0] += 1\n",
    "#             return\n",
    "#         else:\n",
    "#             decode(s[1:], result)\n",
    "#             if length >= 2 and int(s[0]) < 3 and int(s[1]) < 7:\n",
    "#                 decode(s[2:], result)\n",
    "#     result = [0]\n",
    "#     decode(s, result)\n",
    "#     return result[0]\n",
    "\n",
    "def solution(s):\n",
    "    if len(s) == 0 or s[0] == '0':\n",
    "        return 0\n",
    "    def decode(s):\n",
    "        length = len(s)\n",
    "        if length == 1:\n",
    "            return [1, 1]\n",
    "        if int(s[:2]) == 0 or (int(s[0]) > 2 and s[1] == '0'):\n",
    "            return [0, 0]\n",
    "        \n",
    "        if length == 2:\n",
    "            if int(s) > 26 or s[1] == '0' or s[0] == '0':\n",
    "                return [1, 1]\n",
    "            else:\n",
    "                return [2, 1]\n",
    "        else:\n",
    "            if s[0] == '0':\n",
    "                return decode(s[1:])\n",
    "            t = decode(s[1:])\n",
    "            if t == [0, 0]:\n",
    "                return [0, 0]\n",
    "            if int(s[:2]) <= 26 and s[1] != '0' and s[2] != '0':\n",
    "                return [t[0]+t[1], t[0]]\n",
    "            else:\n",
    "                return [t[0], t[0]]\n",
    "                \n",
    "    return decode(s)[0]"
   ]
  },
  {
   "cell_type": "code",
   "execution_count": 59,
   "metadata": {
    "collapsed": false
   },
   "outputs": [
    {
     "data": {
      "text/plain": [
       "0"
      ]
     },
     "execution_count": 59,
     "metadata": {},
     "output_type": "execute_result"
    }
   ],
   "source": [
    "solution(\"230\")"
   ]
  },
  {
   "cell_type": "markdown",
   "metadata": {},
   "source": [
    "# 2. Add Two Numbers"
   ]
  },
  {
   "cell_type": "code",
   "execution_count": null,
   "metadata": {
    "collapsed": true
   },
   "outputs": [],
   "source": [
    "class Solution(object):\n",
    "    def addTwoNumbers(self, l1, l2):\n",
    "        \"\"\"\n",
    "        :type l1: ListNode\n",
    "        :type l2: ListNode\n",
    "        :rtype: ListNode\n",
    "        \"\"\"\n",
    "        p = l1\n",
    "        q = l2\n",
    "        carry = 0\n",
    "        while p is not None and q is not None:\n",
    "            a = p.val + q.val + carry\n",
    "            if a >= 10:\n",
    "                a -= 10\n",
    "                carry = 1\n",
    "            else:\n",
    "                carry = 0\n",
    "            p.val = a\n",
    "            q.val = a\n",
    "            if q.next is None:\n",
    "                result = [l1,p]\n",
    "                break\n",
    "            elif p.next is None:\n",
    "                result = [l2,q]\n",
    "                break\n",
    "            p = p.next\n",
    "            q = q.next\n",
    "    \n",
    "        while carry == 1:\n",
    "            if result[1].next is None:\n",
    "                result[1].next = ListNode(1)\n",
    "                return result[0]\n",
    "            else:\n",
    "                result[1] = result[1].next\n",
    "                result[1].val += carry\n",
    "                if result[1].val >= 10:\n",
    "                    result[1].val -= 10\n",
    "                    carry = 1\n",
    "                else:\n",
    "                    carry = 0\n",
    "                    return result[0]\n",
    "                \n",
    "        return result[0]"
   ]
  },
  {
   "cell_type": "markdown",
   "metadata": {},
   "source": [
    "# 300. Longest Increasing Subsequence"
   ]
  },
  {
   "cell_type": "code",
   "execution_count": 9,
   "metadata": {
    "collapsed": true
   },
   "outputs": [],
   "source": [
    "def solution(nums):\n",
    "    if len(nums) is 0:\n",
    "        return 0\n",
    "    t = [[nums[0],1]]\n",
    "    Max = [nums[0],1]\n",
    "    result = []\n",
    "    for i in range(1, len(nums)):\n",
    "        if nums[i] > Max[0]:\n",
    "            Max = [nums[i],Max[1]+1]\n",
    "            result.append(Max[:])\n",
    "        else:\n",
    "            l = 1\n",
    "            for j in result:\n",
    "                if j[0] < nums[i] and j[1] + 1 > l:\n",
    "                    l = j[1] + 1\n",
    "            if Max[1] < l:\n",
    "                Max = [nums[i],l]\n",
    "            result.append([nums[i],l])\n",
    "    return Max"
   ]
  },
  {
   "cell_type": "markdown",
   "metadata": {},
   "source": [
    "# 92. Reverse Linked List II"
   ]
  },
  {
   "cell_type": "code",
   "execution_count": null,
   "metadata": {
    "collapsed": true
   },
   "outputs": [],
   "source": [
    "class Solution(object):\n",
    "    def reverseBetween(self, head, m, n):\n",
    "        \"\"\"\n",
    "        :type head: ListNode\n",
    "        :type m: int\n",
    "        :type n: int\n",
    "        :rtype: ListNode\n",
    "        \"\"\"\n",
    "        ps = []\n",
    "        h = ListNode(0)\n",
    "        h.next = head\n",
    "        def re(head,m,n,p):\n",
    "            while p < m - 1:\n",
    "                p += 1\n",
    "                head = head.next\n",
    "            if p == m - 1:\n",
    "                re(head.next,m,n,p+1)\n",
    "                head.next = ps[0][0]\n",
    "            if p >= m and p < n:\n",
    "                re(head.next,m,n,p+1).next = head\n",
    "                if p == m:\n",
    "                    head.next = ps[0][1]\n",
    "                    return\n",
    "                return head\n",
    "            elif p == n:\n",
    "                p.append([head,head.next])\n",
    "                return head\n",
    "        re(h,m,n,0)\n",
    "        return h.next"
   ]
  },
  {
   "cell_type": "markdown",
   "metadata": {},
   "source": [
    "# 94. Binary Tree Inorder Traversal"
   ]
  },
  {
   "cell_type": "code",
   "execution_count": null,
   "metadata": {
    "collapsed": true
   },
   "outputs": [],
   "source": [
    "def inorderTraversal(self, root):\n",
    "        \"\"\"\n",
    "        :type root: TreeNode\n",
    "        :rtype: List[int]\n",
    "        \"\"\"\n",
    "        if root is None:\n",
    "            return []\n",
    "        \n",
    "        stack = []\n",
    "        result = []\n",
    "        p = root\n",
    "        while True:\n",
    "            while p is not None:\n",
    "                stack.append(p)\n",
    "                p = p.left\n",
    "            if len(stack) == 0:\n",
    "                break\n",
    "            else:\n",
    "                t = stack.pop()\n",
    "                result.append(t.val)\n",
    "                if t.right is None:\n",
    "                    if len(stack) == 0:\n",
    "                        break\n",
    "                    else:\n",
    "                        t = stack.pop()\n",
    "                        result.append(t.val)\n",
    "                        p = t.right\n",
    "                p = t.right\n",
    "        return result"
   ]
  },
  {
   "cell_type": "markdown",
   "metadata": {},
   "source": [
    "# 173. Binary Search Tree Iterator"
   ]
  },
  {
   "cell_type": "code",
   "execution_count": null,
   "metadata": {
    "collapsed": true
   },
   "outputs": [],
   "source": [
    "class BSTIterator(object):\n",
    "    result = []\n",
    "    def __init__(self, root):\n",
    "        \"\"\"\n",
    "        :type root: TreeNode\n",
    "        \"\"\"\n",
    "        def inorder(root):\n",
    "            if root is None:\n",
    "                return\n",
    "            else:\n",
    "                left = root.left\n",
    "                right = root.right\n",
    "                inorder(right)\n",
    "                self.result.append(root.val)\n",
    "                inorder(left)\n",
    "                return\n",
    "        inorder(root)\n",
    "        \n",
    "    def hasNext(self):\n",
    "        \"\"\"\n",
    "        :rtype: bool\n",
    "        \"\"\"\n",
    "        if len(self.result) == 0:\n",
    "            return False\n",
    "        else:\n",
    "            return True\n",
    "\n",
    "    def next(self):\n",
    "        \"\"\"\n",
    "        :rtype: int\n",
    "        \"\"\"\n",
    "        if self.hasNext():\n",
    "            return self.result.pop()\n",
    "        else:\n",
    "            return None"
   ]
  },
  {
   "cell_type": "markdown",
   "metadata": {},
   "source": [
    "# 199. Binary Tree Right Side View"
   ]
  },
  {
   "cell_type": "code",
   "execution_count": null,
   "metadata": {
    "collapsed": true
   },
   "outputs": [],
   "source": [
    "class Solution(object):\n",
    "    def rightSideView(self, root):\n",
    "        \"\"\"\n",
    "        :type root: TreeNode\n",
    "        :rtype: List[int]\n",
    "        \"\"\"\n",
    "        if root is None:\n",
    "            return []\n",
    "        result = []\n",
    "        a = []\n",
    "        if root is None:\n",
    "            return\n",
    "        bfs = [[root,1]]\n",
    "        while len(bfs) != 0:\n",
    "            t = bfs.pop(0)\n",
    "            if t[0] is None:\n",
    "                continue\n",
    "            result.append([t[0].val,t[1]])\n",
    "            bfs.append([t[0].right,t[1] + 1])\n",
    "            bfs.append([t[0].left,t[1] + 1])\n",
    "        \n",
    "        h = 0    \n",
    "        while len(result) != 0:\n",
    "            t = result.pop(0)\n",
    "            if t[1] > h:\n",
    "                a.append(t[0])\n",
    "                h = t[1]\n",
    "            else:\n",
    "                continue\n",
    "        return a"
   ]
  },
  {
   "cell_type": "markdown",
   "metadata": {},
   "source": [
    "# 95. Unique Binary Search Trees II"
   ]
  },
  {
   "cell_type": "code",
   "execution_count": null,
   "metadata": {
    "collapsed": true
   },
   "outputs": [],
   "source": [
    "class Solution(object):\n",
    "    def generateTrees(self, n):\n",
    "        \"\"\"\n",
    "        :type n: int\n",
    "        :rtype: List[TreeNode]\n",
    "        \"\"\"\n",
    "        \n",
    "        t = TreeNode(1)\n",
    "        if n == 1:\n",
    "            return [t]\n",
    "        if n == 0:\n",
    "            return []\n",
    "        \n",
    "        record = [[None],[t]]\n",
    "        result = []\n",
    "        \n",
    "        def fill(n):\n",
    "            tmp = []\n",
    "            for i in range(n):\n",
    "                for j in record[i]:\n",
    "                    for k in record[n - 1 - i]:\n",
    "                        t = TreeNode(0)\n",
    "                        t.left = j\n",
    "                        t.right = k\n",
    "                        tmp.append(t)\n",
    "            record.append(tmp[:])\n",
    "        \n",
    "        def FillTree(root,p,nr):\n",
    "            if root is None:\n",
    "                return\n",
    "            else:\n",
    "                if root.left is not None:\n",
    "                    nr.left = TreeNode(0)\n",
    "                    FillTree(root.left,p,nr.left)\n",
    "                nr.val = p[0] + 1\n",
    "                p[0] += 1\n",
    "                if root.right is not None:\n",
    "                    nr.right = TreeNode(0)\n",
    "                    FillTree(root.right,p,nr.right)\n",
    "        \n",
    "        for i in range(2,n+1):\n",
    "            fill(i)\n",
    "\n",
    "        for r in record[n]:\n",
    "            nr = TreeNode(0)\n",
    "            p = [0]\n",
    "            FillTree(r,p,nr)\n",
    "            result.append(nr)\n",
    "        return result"
   ]
  },
  {
   "cell_type": "markdown",
   "metadata": {},
   "source": [
    "# 96. Unique Binary Search Trees"
   ]
  },
  {
   "cell_type": "code",
   "execution_count": null,
   "metadata": {
    "collapsed": true
   },
   "outputs": [],
   "source": [
    "class Solution(object):\n",
    "    def numTrees(self, n):\n",
    "        \"\"\"\n",
    "        :type n: int\n",
    "        :rtype: int\n",
    "        \"\"\"\n",
    "        if n == 0:\n",
    "            return 0\n",
    "        elif n == 1:\n",
    "            return 1\n",
    "        result = [1,1]\n",
    "        def fill(n):\n",
    "            a = 0\n",
    "            if n%2 == 0:\n",
    "                for i in range(n/2):\n",
    "                    a += 2*result[i]*result[n-i-1]\n",
    "            else:\n",
    "                for i in range(n/2 + 1):\n",
    "                    if i != n/2:\n",
    "                        a += 2*result[i]*result[n-i-1]\n",
    "                    else:\n",
    "                        a += result[i]*result[n-i-1]\n",
    "            result.append(a)\n",
    "        \n",
    "        for i in range(2,n+1):\n",
    "            fill(i)\n",
    "        \n",
    "        return result[-1]"
   ]
  },
  {
   "cell_type": "markdown",
   "metadata": {},
   "source": [
    "# 98. Validate Binary Search Tree"
   ]
  },
  {
   "cell_type": "code",
   "execution_count": null,
   "metadata": {
    "collapsed": true
   },
   "outputs": [],
   "source": [
    "def isValidBST(self, root):\n",
    "    \"\"\"\n",
    "    :type root: TreeNode\n",
    "    :rtype: bool\n",
    "    \"\"\"\n",
    "    dfs = []\n",
    "    a = None\n",
    "    p = root\n",
    "    while True:\n",
    "        while p is not None:\n",
    "            dfs.append(p)\n",
    "            p = p.left\n",
    "\n",
    "        if len(dfs) == 0:\n",
    "            break\n",
    "        else:\n",
    "            p = dfs.pop()\n",
    "            if a == None:\n",
    "                a = p.val\n",
    "            elif a >= p.val:\n",
    "                return False\n",
    "            else:\n",
    "                a = p.val\n",
    "            p = p.right\n",
    "    return True"
   ]
  },
  {
   "cell_type": "markdown",
   "metadata": {},
   "source": [
    "# 103. Binary Tree Zigzag Level Order Traversal"
   ]
  },
  {
   "cell_type": "code",
   "execution_count": null,
   "metadata": {
    "collapsed": true
   },
   "outputs": [],
   "source": [
    "class Solution(object):\n",
    "    def zigzagLevelOrder(self, root):\n",
    "        \"\"\"\n",
    "        :type root: TreeNode\n",
    "        :rtype: List[List[int]]\n",
    "        \"\"\"\n",
    "        if root is None:\n",
    "            return []\n",
    "        else:\n",
    "            bfs = [[0,root]]\n",
    "            level = 0\n",
    "            lt = []\n",
    "            result = []\n",
    "            while len(bfs) != 0:\n",
    "                t = bfs.pop(0)\n",
    "                if t[1] is None:\n",
    "                    continue\n",
    "                else:\n",
    "                    if level == t[0]:\n",
    "                        lt.append(t[1].val)\n",
    "                    else:\n",
    "                        level = t[0]\n",
    "                        if level % 2 == 1:\n",
    "                            result.append(lt[:])\n",
    "                        else:\n",
    "                            result.append(lt[::-1])\n",
    "                        \n",
    "                        lt = []\n",
    "                        lt.append(t[1].val)\n",
    "                    bfs.append([level + 1, t[1].left])\n",
    "                    bfs.append([level + 1, t[1].right])\n",
    "            \n",
    "            if level % 2 == 0:\n",
    "                result.append(lt[:])\n",
    "            else:\n",
    "                result.append(lt[::-1])\n",
    "            return result"
   ]
  },
  {
   "cell_type": "markdown",
   "metadata": {},
   "source": [
    "# 102. Binary Tree Level Order Traversal"
   ]
  },
  {
   "cell_type": "code",
   "execution_count": null,
   "metadata": {
    "collapsed": true
   },
   "outputs": [],
   "source": [
    "class Solution(object):\n",
    "    def levelOrder(self, root):\n",
    "        \"\"\"\n",
    "        :type root: TreeNode\n",
    "        :rtype: List[List[int]]\n",
    "        \"\"\"\n",
    "        if root is None:\n",
    "            return []\n",
    "        bfs=[[root, 0]]\n",
    "        level = 0\n",
    "        result = []\n",
    "        lt = []\n",
    "        while len(bfs) != 0:\n",
    "            t = bfs.pop(0)\n",
    "            if t[0] is None:\n",
    "                continue\n",
    "            else:\n",
    "                if t[1] == level:\n",
    "                    lt.append(t[0].val)\n",
    "                else:\n",
    "                    level = t[1]\n",
    "                    result.append(lt[:])\n",
    "                    lt = []\n",
    "                    lt.append(t[0].val)\n",
    "                bfs.append([t[0].left, t[1]+1])\n",
    "                bfs.append([t[0].right, t[1]+1])\n",
    "        result.append(lt[:])\n",
    "        return result"
   ]
  },
  {
   "cell_type": "markdown",
   "metadata": {},
   "source": [
    "# 104. Maximum Depth of Binary Tree"
   ]
  },
  {
   "cell_type": "code",
   "execution_count": null,
   "metadata": {
    "collapsed": true
   },
   "outputs": [],
   "source": [
    "class Solution(object):\n",
    "    def maxDepth(self, root):\n",
    "        \"\"\"\n",
    "        :type root: TreeNode\n",
    "        :rtype: int\n",
    "        \"\"\"\n",
    "        max = [0]\n",
    "        def dfs(root,depth,max):\n",
    "            if root is None:\n",
    "                return\n",
    "            else:\n",
    "                dfs(root.left,depth + 1,max)\n",
    "                dfs(root.right,depth + 1,max)\n",
    "                if max[0] < depth:\n",
    "                    max[0] = depth\n",
    "        \n",
    "        dfs(root,1,max)\n",
    "        \n",
    "        return max[0]"
   ]
  },
  {
   "cell_type": "markdown",
   "metadata": {},
   "source": [
    "# 200. Number of Islands"
   ]
  },
  {
   "cell_type": "code",
   "execution_count": null,
   "metadata": {
    "collapsed": true
   },
   "outputs": [],
   "source": [
    "class Solution(object):\n",
    "    def numIslands(self, grid):\n",
    "        mk = 0\n",
    "        length = len(grid)\n",
    "        if length == 0:\n",
    "            return 0\n",
    "        width = len(grid[0])\n",
    "        def mark(x, y, mk):\n",
    "            if x < 0 or y < 0 or x >= length or y >= width:\n",
    "                return\n",
    "            else:\n",
    "                if grid[x][y] == '1':\n",
    "                    grid[x][y] = mk\n",
    "                    mark(x, y + 1, mk)\n",
    "                    mark(x, y - 1, mk)\n",
    "                    mark(x - 1, y, mk)\n",
    "                    mark(x + 1, y, mk)\n",
    "                    return\n",
    "                else:\n",
    "                    return\n",
    "        for x in range(length):\n",
    "            for y in range(width):\n",
    "                if grid[x][y] == '1':\n",
    "                    mk += 1\n",
    "                    mark(x, y, mk)\n",
    "        return mk"
   ]
  },
  {
   "cell_type": "markdown",
   "metadata": {},
   "source": [
    "# 109. Convert Sorted List to Binary Search Tree"
   ]
  },
  {
   "cell_type": "code",
   "execution_count": null,
   "metadata": {
    "collapsed": true
   },
   "outputs": [],
   "source": [
    "class Solution(object):\n",
    "    def sortedListToBST(self, head):\n",
    "        \"\"\"\n",
    "        :type head: ListNode\n",
    "        :rtype: TreeNode\n",
    "        \"\"\"\n",
    "        nums = []\n",
    "        while head is not None:\n",
    "            nums.append(head.val)\n",
    "            head = head.next\n",
    "        p = 0\n",
    "        q = len(nums) - 1\n",
    "        if q < 0:\n",
    "            return []\n",
    "        def build(p, q):\n",
    "            mid = (p+q)/2\n",
    "            if p > q:\n",
    "                return None\n",
    "            root = TreeNode(nums[mid])\n",
    "            root.left = build(p, mid-1)\n",
    "            root.right = build(mid+1, q)\n",
    "            \n",
    "            return root\n",
    "\n",
    "        return build(p,q)"
   ]
  },
  {
   "cell_type": "markdown",
   "metadata": {},
   "source": [
    "# 108. Convert Sorted Array to Binary Search Tree"
   ]
  },
  {
   "cell_type": "code",
   "execution_count": null,
   "metadata": {
    "collapsed": true
   },
   "outputs": [],
   "source": [
    "class Solution(object):\n",
    "    def sortedArrayToBST(self, nums):\n",
    "        \"\"\"\n",
    "        :type nums: List[int]\n",
    "        :rtype: TreeNode\n",
    "        \"\"\"\n",
    "        p = 0\n",
    "        q = len(nums) - 1\n",
    "        if q < 0:\n",
    "            return []\n",
    "        def build(p, q):\n",
    "            mid = (p+q)/2\n",
    "            if p > q:\n",
    "                return None\n",
    "            root = TreeNode(nums[mid])\n",
    "            root.left = build(p, mid-1)\n",
    "            root.right = build(mid+1, q)\n",
    "            \n",
    "            return root\n",
    "\n",
    "        return build(p,q)"
   ]
  },
  {
   "cell_type": "markdown",
   "metadata": {},
   "source": [
    "# 110. Balanced Binary Tree"
   ]
  },
  {
   "cell_type": "code",
   "execution_count": null,
   "metadata": {
    "collapsed": true
   },
   "outputs": [],
   "source": [
    "class Solution(object):\n",
    "    def isBalanced(self, root):\n",
    "        \"\"\"\n",
    "        :type root: TreeNode\n",
    "        :rtype: bool\n",
    "        \"\"\"\n",
    "        cp = [None,None]\n",
    "        flag = [True]\n",
    "        def dfs(root):\n",
    "            if root is None:\n",
    "                return 0\n",
    "            else:\n",
    "                if flag[0]:\n",
    "                    l = dfs(root.left)\n",
    "                    r = dfs(root.right)\n",
    "                    depth = max(l,r) + 1\n",
    "                    if abs(l-r) > 1:\n",
    "                        flag[0] = False\n",
    "                    return depth\n",
    "                else:\n",
    "                    return 0 \n",
    "                \n",
    "        dfs(root)\n",
    "        return flag[0]"
   ]
  },
  {
   "cell_type": "markdown",
   "metadata": {},
   "source": [
    "# 111. Minimum Depth of Binary Tree"
   ]
  },
  {
   "cell_type": "code",
   "execution_count": null,
   "metadata": {
    "collapsed": true
   },
   "outputs": [],
   "source": [
    "class Solution(object):\n",
    "    def minDepth(self, root):\n",
    "        \"\"\"\n",
    "        :type root: TreeNode\n",
    "        :rtype: int\n",
    "        \"\"\"\n",
    "        result = [None]\n",
    "        if root is None:\n",
    "            return 0\n",
    "        def min(root,depth):\n",
    "            if root is None:\n",
    "                return\n",
    "            elif root.left is None and root.right is None:\n",
    "                if result[0] is None:\n",
    "                    result[0] = depth\n",
    "                elif result[0] > depth:\n",
    "                    result[0] = depth\n",
    "                return\n",
    "            else:\n",
    "                min(root.left,depth+1)\n",
    "                min(root.right,depth+1)\n",
    "        min(root,1)\n",
    "        return result[0]"
   ]
  },
  {
   "cell_type": "markdown",
   "metadata": {},
   "source": [
    "# 208. Implement Trie (Prefix Tree)"
   ]
  },
  {
   "cell_type": "code",
   "execution_count": null,
   "metadata": {
    "collapsed": true
   },
   "outputs": [],
   "source": [
    "class TrieNode(object):\n",
    "    def __init__(self):\n",
    "        \"\"\"\n",
    "        Initialize your data structure here.\n",
    "        \"\"\"\n",
    "        self.child = {}\n",
    "        self.val = None\n",
    "        \n",
    "        \n",
    "\n",
    "class Trie(object):\n",
    "\n",
    "    def __init__(self):\n",
    "        self.root = TrieNode()\n",
    "\n",
    "    def insert(self, word):\n",
    "        \"\"\"\n",
    "        Inserts a word into the trie.\n",
    "        :type word: str\n",
    "        :rtype: void\n",
    "        \"\"\"\n",
    "        p = self.root\n",
    "        for i in word:\n",
    "            if p.child.get(i) is None:\n",
    "                p.child[i] = TrieNode()\n",
    "            p = p.child[i]\n",
    "        p.val = word\n",
    "        \n",
    "\n",
    "    def search(self, word):\n",
    "        \"\"\"\n",
    "        Returns if the word is in the trie.\n",
    "        :type word: str\n",
    "        :rtype: bool\n",
    "        \"\"\"\n",
    "        p = self.root\n",
    "        for i in word:\n",
    "            if p.child.get(i) is None:\n",
    "                return False\n",
    "            p = p.child[i]\n",
    "        if p.val is not None:\n",
    "            return True\n",
    "        else:\n",
    "            return False\n",
    "        \n",
    "\n",
    "    def startsWith(self, prefix):\n",
    "        \"\"\"\n",
    "        Returns if there is any word in the trie\n",
    "        that starts with the given prefix.\n",
    "        :type prefix: str\n",
    "        :rtype: bool\n",
    "        \"\"\"\n",
    "        p = self.root\n",
    "        for i in prefix:\n",
    "            if p.child.get(i) is None:\n",
    "                return False\n",
    "            p = p.child[i]\n",
    "        return True\n",
    "        "
   ]
  },
  {
   "cell_type": "markdown",
   "metadata": {},
   "source": [
    "# 113. Path Sum II"
   ]
  },
  {
   "cell_type": "code",
   "execution_count": null,
   "metadata": {
    "collapsed": true
   },
   "outputs": [],
   "source": [
    "class Solution(object):\n",
    "    def flatten(self, root):\n",
    "        \"\"\"\n",
    "        :type root: TreeNode\n",
    "        :rtype: void Do not return anything, modify root in-place instead.\n",
    "        \"\"\"\n",
    "        if root is None:\n",
    "            return\n",
    "            \n",
    "        node = []\n",
    "        def dfs(root):\n",
    "            if root is None:\n",
    "                return\n",
    "            else:\n",
    "                node.append(root)\n",
    "                dfs(root.left)\n",
    "                dfs(root.right)\n",
    "        \n",
    "        dfs(root)\n",
    "        length = len(node)\n",
    "        \n",
    "        if length == 1:\n",
    "            return \n",
    "        else:\n",
    "            for i in range(length - 1):\n",
    "                node[i].left = None\n",
    "                node[i].right = node[i+1]"
   ]
  },
  {
   "cell_type": "markdown",
   "metadata": {},
   "source": [
    "# 114. Flatten Binary Tree to Linked List"
   ]
  },
  {
   "cell_type": "code",
   "execution_count": null,
   "metadata": {
    "collapsed": true
   },
   "outputs": [],
   "source": [
    "class Solution(object):\n",
    "    def pathSum(self, root, sum):\n",
    "        \"\"\"\n",
    "        :type root: TreeNode\n",
    "        :type sum: int\n",
    "        :rtype: List[List[int]]\n",
    "        \"\"\"\n",
    "        if root is None:\n",
    "            return []\n",
    "        def dfs(root,result,s,l):\n",
    "            if root is None:\n",
    "                return\n",
    "            else:\n",
    "                s += root.val\n",
    "                l.append(root.val)\n",
    "                if root.left is None and root.right is None:\n",
    "                    if s == sum:\n",
    "                        result.append(l)\n",
    "                    return\n",
    "                else:\n",
    "                    dfs(root.left,result,s,l[:])\n",
    "                    dfs(root.right,result,s,l[:])\n",
    "                    return\n",
    "        result = []\n",
    "        dfs(root,result,0,[])\n",
    "        \n",
    "        return result"
   ]
  },
  {
   "cell_type": "markdown",
   "metadata": {},
   "source": [
    "# 116. Populating Next Right Pointers in Each Node"
   ]
  },
  {
   "cell_type": "code",
   "execution_count": null,
   "metadata": {
    "collapsed": true
   },
   "outputs": [],
   "source": [
    "class Solution(object):\n",
    "    def connect(self, root):\n",
    "        \"\"\"\n",
    "        :type root: TreeLinkNode\n",
    "        :rtype: nothing\n",
    "        \"\"\"\n",
    "        if root is None:\n",
    "            return\n",
    "        root.next = None\n",
    "        p = root\n",
    "        down = p.left\n",
    "        while down is not None:\n",
    "            while p.next is not None:\n",
    "                p.left.next = p.right\n",
    "                p.right.next = p.next.left\n",
    "                p = p.next\n",
    "            p.left.next = p.right\n",
    "            p = down\n",
    "            down = p.left"
   ]
  },
  {
   "cell_type": "markdown",
   "metadata": {},
   "source": [
    "# 118. Pascal's Triangle"
   ]
  },
  {
   "cell_type": "code",
   "execution_count": null,
   "metadata": {
    "collapsed": true
   },
   "outputs": [],
   "source": [
    "class Solution(object):\n",
    "    def generate(self, numRows):\n",
    "        \"\"\"\n",
    "        :type numRows: int\n",
    "        :rtype: List[List[int]]\n",
    "        \"\"\"\n",
    "        result = [[1],[1,1]]\n",
    "        if numRows == 0:\n",
    "            return []\n",
    "        elif numRows == 1:\n",
    "            return [[1]]\n",
    "        elif numRows == 2:\n",
    "            return [[1],[1,1]]\n",
    "            \n",
    "        for i in range(2,numRows):\n",
    "            t = [1]\n",
    "            for j in range(i-1):\n",
    "                t.append(result[i-1][j] + result[i-1][j+1])\n",
    "            t.append(1)\n",
    "            result.append(t[:])\n",
    "        return result"
   ]
  },
  {
   "cell_type": "markdown",
   "metadata": {},
   "source": [
    "# 119. Pascal's Triangle II"
   ]
  },
  {
   "cell_type": "code",
   "execution_count": null,
   "metadata": {
    "collapsed": true
   },
   "outputs": [],
   "source": [
    "class Solution(object):\n",
    "    def getRow(self, rowIndex):\n",
    "        \"\"\"\n",
    "        :type rowIndex: int\n",
    "        :rtype: List[int]\n",
    "        \"\"\"\n",
    "        if rowIndex == 0:\n",
    "            return [1]\n",
    "        \n",
    "        \n",
    "        result = []\n",
    "        t = 1\n",
    "        \n",
    "        if (rowIndex + 1) % 2 == 0:\n",
    "            n = (rowIndex + 1)/2\n",
    "            flag = 1\n",
    "        else:\n",
    "            n = (rowIndex + 1)/2 + 1\n",
    "            flag = 0\n",
    "        \n",
    "        for i in range(1,n):\n",
    "            result.append(t)\n",
    "            t = t*(rowIndex+1 - i) / i\n",
    "        result.append(t)  \n",
    "        \n",
    "        half = result[::-1]\n",
    "        \n",
    "        if flag == 1:\n",
    "            return result + half\n",
    "        else:\n",
    "            return result + half[1:]"
   ]
  },
  {
   "cell_type": "markdown",
   "metadata": {},
   "source": [
    "# 121. Best Time to Buy and Sell Stock"
   ]
  },
  {
   "cell_type": "code",
   "execution_count": null,
   "metadata": {
    "collapsed": true
   },
   "outputs": [],
   "source": [
    "class Solution(object):\n",
    "    def maxProfit(self, prices):\n",
    "        \"\"\"\n",
    "        :type prices: List[int]\n",
    "        :rtype: int\n",
    "        \"\"\"\n",
    "        length = len(prices)\n",
    "\n",
    "        \n",
    "        if length <= 1:\n",
    "            return 0\n",
    "        profit = 0\n",
    "        \n",
    "        start = prices[0]\n",
    "        stop = prices[0]\n",
    "        p = prices[0]\n",
    "        for i in range(1,length):\n",
    "            if prices[i] < prices[i-1]:\n",
    "                p = min(p,start)\n",
    "                profit = max(profit,stop - p)\n",
    "                start = prices[i]\n",
    "            stop = prices[i]\n",
    "        \n",
    "        return max(profit,stop - min(p,start))"
   ]
  },
  {
   "cell_type": "markdown",
   "metadata": {},
   "source": [
    "# 122. Best Time to Buy and Sell Stock II"
   ]
  },
  {
   "cell_type": "code",
   "execution_count": null,
   "metadata": {
    "collapsed": true
   },
   "outputs": [],
   "source": [
    "class Solution(object):\n",
    "    def maxProfit(self, prices):\n",
    "        \"\"\"\n",
    "        :type prices: List[int]\n",
    "        :rtype: int\n",
    "        \"\"\"\n",
    "        length = len(prices)\n",
    "\n",
    "        \n",
    "        if length <= 1:\n",
    "            return 0\n",
    "        profit = 0\n",
    "        buy = prices[0]\n",
    "        sell = prices[0]\n",
    "        for i in range(1,length):\n",
    "            if prices[i] < prices[i-1]:\n",
    "                profit += sell - buy\n",
    "                buy = prices[i]\n",
    "            sell = prices[i]\n",
    "        if sell > buy:\n",
    "            profit += sell - buy\n",
    "        return profit"
   ]
  }
 ],
 "metadata": {
  "kernelspec": {
   "display_name": "Python 2",
   "language": "python",
   "name": "python2"
  },
  "language_info": {
   "codemirror_mode": {
    "name": "ipython",
    "version": 2
   },
   "file_extension": ".py",
   "mimetype": "text/x-python",
   "name": "python",
   "nbconvert_exporter": "python",
   "pygments_lexer": "ipython2",
   "version": "2.7.11"
  }
 },
 "nbformat": 4,
 "nbformat_minor": 0
}
